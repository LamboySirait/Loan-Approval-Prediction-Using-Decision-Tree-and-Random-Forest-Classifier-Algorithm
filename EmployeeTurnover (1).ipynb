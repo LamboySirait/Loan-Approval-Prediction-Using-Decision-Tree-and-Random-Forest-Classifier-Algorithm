{
 "cells": [
  {
   "cell_type": "markdown",
   "metadata": {
    "id": "UPkd4cpE5zfK"
   },
   "source": [
    "**Nama Kelompok**\n",
    "\n",
    "\n",
    "\n",
    "1. 11S20006 Guntur Sinaga\n",
    "2. 11S20020 Roosen Gabriel Manurung\n",
    "3. 11S20023 Natanael Siregar\n",
    "4. 11S20028 Lamboy Sirait\n",
    "5. 11S20038 Valentina Margaretha Siahaan\n",
    "6. 11S20039 Ketrina Siagian\n",
    "7. 11S20043 Putri Siahaan\n",
    "8. 11S20051 Cheilint Siallagan\n",
    "\n"
   ]
  },
  {
   "cell_type": "code",
   "execution_count": 1,
   "metadata": {
    "id": "f10WEiBvj-Vl"
   },
   "outputs": [],
   "source": [
    "# Import Library\n",
    "import pandas as pd \n",
    "import numpy as np \n",
    "import matplotlib.pyplot as plt \n",
    "%matplotlib inline \n",
    "import seaborn as sns \n",
    "from IPython import get_ipython \n",
    "import warnings \n",
    "warnings.filterwarnings (\"ignore\")\n"
   ]
  },
  {
   "cell_type": "markdown",
   "metadata": {
    "id": "-NrVeX0mEdGI"
   },
   "source": [
    "Kode diatas adalah baris-baris perintah untuk mengimpor beberapa library yang diperlukan dalam analisis data.\n",
    "\n",
    "1. import pandas as pd: Mengimpor library Pandas dan memberi alias pd untuk memudahkan penggunaan di kode selanjutnya. Pandas adalah library Python yang digunakan untuk manipulasi dan analisis data.\n",
    "2. import numpy as np: Mengimpor library NumPy dan memberi alias np untuk memudahkan penggunaan di kode selanjutnya. NumPy adalah library Python yang digunakan untuk operasi numerik dan matematika.\n",
    "3. import matplotlib.pyplot as plt: Mengimpor library Matplotlib dan memberi alias plt untuk memudahkan penggunaan di kode selanjutnya. Matplotlib adalah library Python yang digunakan untuk membuat visualisasi data\n",
    "4. %matplotlib inline: Perintah ini digunakan untuk menampilkan plot di dalam notebook Jupyter.\n",
    "5. import seaborn as sns: Mengimpor library Seaborn untuk memudahkan membuat visualisasi data yang lebih menarik dan informatif.\n",
    "6. from IPython import get_ipython: Mengimpor fungsi get_ipython() dari library IPython, yang digunakan untuk mendapatkan instance dari kernel IPython saat ini.\n",
    "7. import warnings: Mengimpor library Warnings yang digunakan untuk mengatur perilaku peringatan Python.\n",
    "8. warnings.filterwarnings(\"ignore\"): Mengatur agar peringatan tidak ditampilkan pada output di notebook, sehingga memudahkan untuk membaca hasil dari analisis data."
   ]
  },
  {
   "cell_type": "code",
   "execution_count": null,
   "metadata": {
    "id": "AQOqsyvqeyiL"
   },
   "outputs": [],
   "source": []
  },
  {
   "cell_type": "code",
   "execution_count": 2,
   "metadata": {
    "id": "IRs8dzALkpWl"
   },
   "outputs": [],
   "source": [
    "# Import Dataset\n",
    "data = pd.read_csv('hr_data.csv')"
   ]
  },
  {
   "cell_type": "markdown",
   "metadata": {
    "id": "Kw4XSOZZevhN"
   },
   "source": [
    "#**Data Exploration**"
   ]
  },
  {
   "cell_type": "code",
   "execution_count": 3,
   "metadata": {
    "colab": {
     "base_uri": "https://localhost:8080/",
     "height": 270
    },
    "id": "nLMXuqErlrEr",
    "outputId": "f77acf8f-b088-4a04-ea9c-f68f0779612b"
   },
   "outputs": [
    {
     "data": {
      "text/html": [
       "<div>\n",
       "<style scoped>\n",
       "    .dataframe tbody tr th:only-of-type {\n",
       "        vertical-align: middle;\n",
       "    }\n",
       "\n",
       "    .dataframe tbody tr th {\n",
       "        vertical-align: top;\n",
       "    }\n",
       "\n",
       "    .dataframe thead th {\n",
       "        text-align: right;\n",
       "    }\n",
       "</style>\n",
       "<table border=\"1\" class=\"dataframe\">\n",
       "  <thead>\n",
       "    <tr style=\"text-align: right;\">\n",
       "      <th></th>\n",
       "      <th>satisfaction_level</th>\n",
       "      <th>last_evaluation</th>\n",
       "      <th>number_project</th>\n",
       "      <th>average_montly_hours</th>\n",
       "      <th>time_spend_company</th>\n",
       "      <th>Work_accident</th>\n",
       "      <th>left</th>\n",
       "      <th>promotion_last_5years</th>\n",
       "      <th>sales</th>\n",
       "      <th>salary</th>\n",
       "    </tr>\n",
       "  </thead>\n",
       "  <tbody>\n",
       "    <tr>\n",
       "      <th>0</th>\n",
       "      <td>0.38</td>\n",
       "      <td>0.53</td>\n",
       "      <td>2</td>\n",
       "      <td>157</td>\n",
       "      <td>3</td>\n",
       "      <td>0</td>\n",
       "      <td>1</td>\n",
       "      <td>0</td>\n",
       "      <td>sales</td>\n",
       "      <td>low</td>\n",
       "    </tr>\n",
       "    <tr>\n",
       "      <th>1</th>\n",
       "      <td>0.80</td>\n",
       "      <td>0.86</td>\n",
       "      <td>5</td>\n",
       "      <td>262</td>\n",
       "      <td>6</td>\n",
       "      <td>0</td>\n",
       "      <td>1</td>\n",
       "      <td>0</td>\n",
       "      <td>sales</td>\n",
       "      <td>medium</td>\n",
       "    </tr>\n",
       "    <tr>\n",
       "      <th>2</th>\n",
       "      <td>0.11</td>\n",
       "      <td>0.88</td>\n",
       "      <td>7</td>\n",
       "      <td>272</td>\n",
       "      <td>4</td>\n",
       "      <td>0</td>\n",
       "      <td>1</td>\n",
       "      <td>0</td>\n",
       "      <td>sales</td>\n",
       "      <td>medium</td>\n",
       "    </tr>\n",
       "    <tr>\n",
       "      <th>3</th>\n",
       "      <td>0.72</td>\n",
       "      <td>0.87</td>\n",
       "      <td>5</td>\n",
       "      <td>223</td>\n",
       "      <td>5</td>\n",
       "      <td>0</td>\n",
       "      <td>1</td>\n",
       "      <td>0</td>\n",
       "      <td>sales</td>\n",
       "      <td>low</td>\n",
       "    </tr>\n",
       "    <tr>\n",
       "      <th>4</th>\n",
       "      <td>0.37</td>\n",
       "      <td>0.52</td>\n",
       "      <td>2</td>\n",
       "      <td>159</td>\n",
       "      <td>3</td>\n",
       "      <td>0</td>\n",
       "      <td>1</td>\n",
       "      <td>0</td>\n",
       "      <td>sales</td>\n",
       "      <td>low</td>\n",
       "    </tr>\n",
       "  </tbody>\n",
       "</table>\n",
       "</div>"
      ],
      "text/plain": [
       "   satisfaction_level  last_evaluation  number_project  average_montly_hours  \\\n",
       "0                0.38             0.53               2                   157   \n",
       "1                0.80             0.86               5                   262   \n",
       "2                0.11             0.88               7                   272   \n",
       "3                0.72             0.87               5                   223   \n",
       "4                0.37             0.52               2                   159   \n",
       "\n",
       "   time_spend_company  Work_accident  left  promotion_last_5years  sales  \\\n",
       "0                   3              0     1                      0  sales   \n",
       "1                   6              0     1                      0  sales   \n",
       "2                   4              0     1                      0  sales   \n",
       "3                   5              0     1                      0  sales   \n",
       "4                   3              0     1                      0  sales   \n",
       "\n",
       "   salary  \n",
       "0     low  \n",
       "1  medium  \n",
       "2  medium  \n",
       "3     low  \n",
       "4     low  "
      ]
     },
     "execution_count": 3,
     "metadata": {},
     "output_type": "execute_result"
    }
   ],
   "source": [
    "data.head()"
   ]
  },
  {
   "cell_type": "markdown",
   "metadata": {
    "id": "s76H45QOJhLQ"
   },
   "source": [
    "Untuk menampilkan 5 baris pertama"
   ]
  },
  {
   "cell_type": "code",
   "execution_count": 4,
   "metadata": {
    "colab": {
     "base_uri": "https://localhost:8080/",
     "height": 270
    },
    "id": "SgSqx9V6lsz6",
    "outputId": "96b557af-9f7b-478b-f19e-31dd09736b03"
   },
   "outputs": [
    {
     "data": {
      "text/html": [
       "<div>\n",
       "<style scoped>\n",
       "    .dataframe tbody tr th:only-of-type {\n",
       "        vertical-align: middle;\n",
       "    }\n",
       "\n",
       "    .dataframe tbody tr th {\n",
       "        vertical-align: top;\n",
       "    }\n",
       "\n",
       "    .dataframe thead th {\n",
       "        text-align: right;\n",
       "    }\n",
       "</style>\n",
       "<table border=\"1\" class=\"dataframe\">\n",
       "  <thead>\n",
       "    <tr style=\"text-align: right;\">\n",
       "      <th></th>\n",
       "      <th>satisfaction_level</th>\n",
       "      <th>last_evaluation</th>\n",
       "      <th>number_project</th>\n",
       "      <th>average_montly_hours</th>\n",
       "      <th>time_spend_company</th>\n",
       "      <th>Work_accident</th>\n",
       "      <th>left</th>\n",
       "      <th>promotion_last_5years</th>\n",
       "      <th>sales</th>\n",
       "      <th>salary</th>\n",
       "    </tr>\n",
       "  </thead>\n",
       "  <tbody>\n",
       "    <tr>\n",
       "      <th>14994</th>\n",
       "      <td>0.40</td>\n",
       "      <td>0.57</td>\n",
       "      <td>2</td>\n",
       "      <td>151</td>\n",
       "      <td>3</td>\n",
       "      <td>0</td>\n",
       "      <td>1</td>\n",
       "      <td>0</td>\n",
       "      <td>support</td>\n",
       "      <td>low</td>\n",
       "    </tr>\n",
       "    <tr>\n",
       "      <th>14995</th>\n",
       "      <td>0.37</td>\n",
       "      <td>0.48</td>\n",
       "      <td>2</td>\n",
       "      <td>160</td>\n",
       "      <td>3</td>\n",
       "      <td>0</td>\n",
       "      <td>1</td>\n",
       "      <td>0</td>\n",
       "      <td>support</td>\n",
       "      <td>low</td>\n",
       "    </tr>\n",
       "    <tr>\n",
       "      <th>14996</th>\n",
       "      <td>0.37</td>\n",
       "      <td>0.53</td>\n",
       "      <td>2</td>\n",
       "      <td>143</td>\n",
       "      <td>3</td>\n",
       "      <td>0</td>\n",
       "      <td>1</td>\n",
       "      <td>0</td>\n",
       "      <td>support</td>\n",
       "      <td>low</td>\n",
       "    </tr>\n",
       "    <tr>\n",
       "      <th>14997</th>\n",
       "      <td>0.11</td>\n",
       "      <td>0.96</td>\n",
       "      <td>6</td>\n",
       "      <td>280</td>\n",
       "      <td>4</td>\n",
       "      <td>0</td>\n",
       "      <td>1</td>\n",
       "      <td>0</td>\n",
       "      <td>support</td>\n",
       "      <td>low</td>\n",
       "    </tr>\n",
       "    <tr>\n",
       "      <th>14998</th>\n",
       "      <td>0.37</td>\n",
       "      <td>0.52</td>\n",
       "      <td>2</td>\n",
       "      <td>158</td>\n",
       "      <td>3</td>\n",
       "      <td>0</td>\n",
       "      <td>1</td>\n",
       "      <td>0</td>\n",
       "      <td>support</td>\n",
       "      <td>low</td>\n",
       "    </tr>\n",
       "  </tbody>\n",
       "</table>\n",
       "</div>"
      ],
      "text/plain": [
       "       satisfaction_level  last_evaluation  number_project  \\\n",
       "14994                0.40             0.57               2   \n",
       "14995                0.37             0.48               2   \n",
       "14996                0.37             0.53               2   \n",
       "14997                0.11             0.96               6   \n",
       "14998                0.37             0.52               2   \n",
       "\n",
       "       average_montly_hours  time_spend_company  Work_accident  left  \\\n",
       "14994                   151                   3              0     1   \n",
       "14995                   160                   3              0     1   \n",
       "14996                   143                   3              0     1   \n",
       "14997                   280                   4              0     1   \n",
       "14998                   158                   3              0     1   \n",
       "\n",
       "       promotion_last_5years    sales salary  \n",
       "14994                      0  support    low  \n",
       "14995                      0  support    low  \n",
       "14996                      0  support    low  \n",
       "14997                      0  support    low  \n",
       "14998                      0  support    low  "
      ]
     },
     "execution_count": 4,
     "metadata": {},
     "output_type": "execute_result"
    }
   ],
   "source": [
    "data.tail()"
   ]
  },
  {
   "cell_type": "markdown",
   "metadata": {
    "id": "EwbUttheJxf5"
   },
   "source": [
    "Untuk menampilkan 5 baris terakhir\n"
   ]
  },
  {
   "cell_type": "code",
   "execution_count": 5,
   "metadata": {
    "colab": {
     "base_uri": "https://localhost:8080/"
    },
    "id": "h2auSwCClvu2",
    "outputId": "2d5f2fd2-64f1-44bf-b3bc-b55ab565b015"
   },
   "outputs": [
    {
     "data": {
      "text/plain": [
       "(14999, 10)"
      ]
     },
     "execution_count": 5,
     "metadata": {},
     "output_type": "execute_result"
    }
   ],
   "source": [
    "data.shape"
   ]
  },
  {
   "cell_type": "markdown",
   "metadata": {
    "id": "h_xjDKDJKFpU"
   },
   "source": [
    "\n",
    "Untuk menampilkan jumlah baris dan kolom dari dataset\n"
   ]
  },
  {
   "cell_type": "code",
   "execution_count": 6,
   "metadata": {
    "colab": {
     "base_uri": "https://localhost:8080/"
    },
    "id": "4JIokLrnlyYV",
    "outputId": "4d72cb97-5502-47aa-c7dc-35712954689d"
   },
   "outputs": [
    {
     "data": {
      "text/plain": [
       "Index(['satisfaction_level', 'last_evaluation', 'number_project',\n",
       "       'average_montly_hours', 'time_spend_company', 'Work_accident', 'left',\n",
       "       'promotion_last_5years', 'sales', 'salary'],\n",
       "      dtype='object')"
      ]
     },
     "execution_count": 6,
     "metadata": {},
     "output_type": "execute_result"
    }
   ],
   "source": [
    "data.columns"
   ]
  },
  {
   "cell_type": "code",
   "execution_count": 7,
   "metadata": {
    "colab": {
     "base_uri": "https://localhost:8080/"
    },
    "id": "ls8JQEr-l0VS",
    "outputId": "1d155ab6-c5d4-4ec4-9927-e26c5140b253"
   },
   "outputs": [
    {
     "data": {
      "text/plain": [
       "3008"
      ]
     },
     "execution_count": 7,
     "metadata": {},
     "output_type": "execute_result"
    }
   ],
   "source": [
    "data.duplicated().sum()"
   ]
  },
  {
   "cell_type": "markdown",
   "metadata": {
    "id": "dAvfV11BKu5Q"
   },
   "source": [
    "Kode data.duplicated().sum() digunakan untuk menghitung jumlah baris data yang terduplikat. Fungsi duplicated() akan mengembalikan suatu DataFrame Boolean dengan nilai True pada baris yang duplikat, sedangkan nilai False pada baris yang tidak duplikat. Kemudian, dengan menggunakan fungsi sum(), kita dapat menjumlahkan jumlah baris yang duplikat dalam DataFrame Boolean tersebut."
   ]
  },
  {
   "cell_type": "code",
   "execution_count": 8,
   "metadata": {
    "colab": {
     "base_uri": "https://localhost:8080/",
     "height": 488
    },
    "id": "PfsXu7aMl3K9",
    "outputId": "7771e7b0-f029-4953-9302-d1ad0c692bf7"
   },
   "outputs": [
    {
     "data": {
      "text/html": [
       "<div>\n",
       "<style scoped>\n",
       "    .dataframe tbody tr th:only-of-type {\n",
       "        vertical-align: middle;\n",
       "    }\n",
       "\n",
       "    .dataframe tbody tr th {\n",
       "        vertical-align: top;\n",
       "    }\n",
       "\n",
       "    .dataframe thead th {\n",
       "        text-align: right;\n",
       "    }\n",
       "</style>\n",
       "<table border=\"1\" class=\"dataframe\">\n",
       "  <thead>\n",
       "    <tr style=\"text-align: right;\">\n",
       "      <th></th>\n",
       "      <th>satisfaction_level</th>\n",
       "      <th>last_evaluation</th>\n",
       "      <th>number_project</th>\n",
       "      <th>average_montly_hours</th>\n",
       "      <th>time_spend_company</th>\n",
       "      <th>Work_accident</th>\n",
       "      <th>left</th>\n",
       "      <th>promotion_last_5years</th>\n",
       "      <th>sales</th>\n",
       "      <th>salary</th>\n",
       "    </tr>\n",
       "  </thead>\n",
       "  <tbody>\n",
       "    <tr>\n",
       "      <th>0</th>\n",
       "      <td>0.38</td>\n",
       "      <td>0.53</td>\n",
       "      <td>2</td>\n",
       "      <td>157</td>\n",
       "      <td>3</td>\n",
       "      <td>0</td>\n",
       "      <td>1</td>\n",
       "      <td>0</td>\n",
       "      <td>sales</td>\n",
       "      <td>low</td>\n",
       "    </tr>\n",
       "    <tr>\n",
       "      <th>1</th>\n",
       "      <td>0.80</td>\n",
       "      <td>0.86</td>\n",
       "      <td>5</td>\n",
       "      <td>262</td>\n",
       "      <td>6</td>\n",
       "      <td>0</td>\n",
       "      <td>1</td>\n",
       "      <td>0</td>\n",
       "      <td>sales</td>\n",
       "      <td>medium</td>\n",
       "    </tr>\n",
       "    <tr>\n",
       "      <th>2</th>\n",
       "      <td>0.11</td>\n",
       "      <td>0.88</td>\n",
       "      <td>7</td>\n",
       "      <td>272</td>\n",
       "      <td>4</td>\n",
       "      <td>0</td>\n",
       "      <td>1</td>\n",
       "      <td>0</td>\n",
       "      <td>sales</td>\n",
       "      <td>medium</td>\n",
       "    </tr>\n",
       "    <tr>\n",
       "      <th>3</th>\n",
       "      <td>0.72</td>\n",
       "      <td>0.87</td>\n",
       "      <td>5</td>\n",
       "      <td>223</td>\n",
       "      <td>5</td>\n",
       "      <td>0</td>\n",
       "      <td>1</td>\n",
       "      <td>0</td>\n",
       "      <td>sales</td>\n",
       "      <td>low</td>\n",
       "    </tr>\n",
       "    <tr>\n",
       "      <th>4</th>\n",
       "      <td>0.37</td>\n",
       "      <td>0.52</td>\n",
       "      <td>2</td>\n",
       "      <td>159</td>\n",
       "      <td>3</td>\n",
       "      <td>0</td>\n",
       "      <td>1</td>\n",
       "      <td>0</td>\n",
       "      <td>sales</td>\n",
       "      <td>low</td>\n",
       "    </tr>\n",
       "    <tr>\n",
       "      <th>...</th>\n",
       "      <td>...</td>\n",
       "      <td>...</td>\n",
       "      <td>...</td>\n",
       "      <td>...</td>\n",
       "      <td>...</td>\n",
       "      <td>...</td>\n",
       "      <td>...</td>\n",
       "      <td>...</td>\n",
       "      <td>...</td>\n",
       "      <td>...</td>\n",
       "    </tr>\n",
       "    <tr>\n",
       "      <th>11995</th>\n",
       "      <td>0.90</td>\n",
       "      <td>0.55</td>\n",
       "      <td>3</td>\n",
       "      <td>259</td>\n",
       "      <td>10</td>\n",
       "      <td>1</td>\n",
       "      <td>0</td>\n",
       "      <td>1</td>\n",
       "      <td>management</td>\n",
       "      <td>high</td>\n",
       "    </tr>\n",
       "    <tr>\n",
       "      <th>11996</th>\n",
       "      <td>0.74</td>\n",
       "      <td>0.95</td>\n",
       "      <td>5</td>\n",
       "      <td>266</td>\n",
       "      <td>10</td>\n",
       "      <td>0</td>\n",
       "      <td>0</td>\n",
       "      <td>1</td>\n",
       "      <td>management</td>\n",
       "      <td>high</td>\n",
       "    </tr>\n",
       "    <tr>\n",
       "      <th>11997</th>\n",
       "      <td>0.85</td>\n",
       "      <td>0.54</td>\n",
       "      <td>3</td>\n",
       "      <td>185</td>\n",
       "      <td>10</td>\n",
       "      <td>0</td>\n",
       "      <td>0</td>\n",
       "      <td>1</td>\n",
       "      <td>management</td>\n",
       "      <td>high</td>\n",
       "    </tr>\n",
       "    <tr>\n",
       "      <th>11998</th>\n",
       "      <td>0.33</td>\n",
       "      <td>0.65</td>\n",
       "      <td>3</td>\n",
       "      <td>172</td>\n",
       "      <td>10</td>\n",
       "      <td>0</td>\n",
       "      <td>0</td>\n",
       "      <td>1</td>\n",
       "      <td>marketing</td>\n",
       "      <td>high</td>\n",
       "    </tr>\n",
       "    <tr>\n",
       "      <th>11999</th>\n",
       "      <td>0.50</td>\n",
       "      <td>0.73</td>\n",
       "      <td>4</td>\n",
       "      <td>180</td>\n",
       "      <td>3</td>\n",
       "      <td>0</td>\n",
       "      <td>0</td>\n",
       "      <td>0</td>\n",
       "      <td>IT</td>\n",
       "      <td>low</td>\n",
       "    </tr>\n",
       "  </tbody>\n",
       "</table>\n",
       "<p>11991 rows × 10 columns</p>\n",
       "</div>"
      ],
      "text/plain": [
       "       satisfaction_level  last_evaluation  number_project  \\\n",
       "0                    0.38             0.53               2   \n",
       "1                    0.80             0.86               5   \n",
       "2                    0.11             0.88               7   \n",
       "3                    0.72             0.87               5   \n",
       "4                    0.37             0.52               2   \n",
       "...                   ...              ...             ...   \n",
       "11995                0.90             0.55               3   \n",
       "11996                0.74             0.95               5   \n",
       "11997                0.85             0.54               3   \n",
       "11998                0.33             0.65               3   \n",
       "11999                0.50             0.73               4   \n",
       "\n",
       "       average_montly_hours  time_spend_company  Work_accident  left  \\\n",
       "0                       157                   3              0     1   \n",
       "1                       262                   6              0     1   \n",
       "2                       272                   4              0     1   \n",
       "3                       223                   5              0     1   \n",
       "4                       159                   3              0     1   \n",
       "...                     ...                 ...            ...   ...   \n",
       "11995                   259                  10              1     0   \n",
       "11996                   266                  10              0     0   \n",
       "11997                   185                  10              0     0   \n",
       "11998                   172                  10              0     0   \n",
       "11999                   180                   3              0     0   \n",
       "\n",
       "       promotion_last_5years       sales  salary  \n",
       "0                          0       sales     low  \n",
       "1                          0       sales  medium  \n",
       "2                          0       sales  medium  \n",
       "3                          0       sales     low  \n",
       "4                          0       sales     low  \n",
       "...                      ...         ...     ...  \n",
       "11995                      1  management    high  \n",
       "11996                      1  management    high  \n",
       "11997                      1  management    high  \n",
       "11998                      1   marketing    high  \n",
       "11999                      0          IT     low  \n",
       "\n",
       "[11991 rows x 10 columns]"
      ]
     },
     "execution_count": 8,
     "metadata": {},
     "output_type": "execute_result"
    }
   ],
   "source": [
    "data.drop_duplicates()"
   ]
  },
  {
   "cell_type": "markdown",
   "metadata": {
    "id": "rEv50bckLsXo"
   },
   "source": [
    "Kode data.drop_duplicates() digunakan untuk menghapus baris duplikat dari suatu DataFrame data. Ini akan mengembalikan DataFrame baru yang sama dengan data, tetapi dengan baris duplikat dihapus."
   ]
  },
  {
   "cell_type": "code",
   "execution_count": 9,
   "metadata": {
    "colab": {
     "base_uri": "https://localhost:8080/"
    },
    "id": "D7QVwu-cl5t6",
    "outputId": "5e97b6f5-d05e-44e9-c060-99dc0c2ea1c2"
   },
   "outputs": [
    {
     "data": {
      "text/plain": [
       "satisfaction_level       0\n",
       "last_evaluation          0\n",
       "number_project           0\n",
       "average_montly_hours     0\n",
       "time_spend_company       0\n",
       "Work_accident            0\n",
       "left                     0\n",
       "promotion_last_5years    0\n",
       "sales                    0\n",
       "salary                   0\n",
       "dtype: int64"
      ]
     },
     "execution_count": 9,
     "metadata": {},
     "output_type": "execute_result"
    }
   ],
   "source": [
    "data.isnull().sum()"
   ]
  },
  {
   "cell_type": "markdown",
   "metadata": {
    "id": "GDZjo_DRL-oB"
   },
   "source": [
    "Kode data.isnull().sum() digunakan untuk menghitung jumlah nilai NaN atau nilai kosong yang ada di setiap kolom dalam DataFrame data."
   ]
  },
  {
   "cell_type": "code",
   "execution_count": 10,
   "metadata": {
    "colab": {
     "base_uri": "https://localhost:8080/"
    },
    "id": "EwEBOfdal_o4",
    "outputId": "9244b7be-2df2-43f7-bc7e-ddfb5129726d"
   },
   "outputs": [
    {
     "name": "stdout",
     "output_type": "stream",
     "text": [
      "<class 'pandas.core.frame.DataFrame'>\n",
      "RangeIndex: 14999 entries, 0 to 14998\n",
      "Data columns (total 10 columns):\n",
      " #   Column                 Non-Null Count  Dtype  \n",
      "---  ------                 --------------  -----  \n",
      " 0   satisfaction_level     14999 non-null  float64\n",
      " 1   last_evaluation        14999 non-null  float64\n",
      " 2   number_project         14999 non-null  int64  \n",
      " 3   average_montly_hours   14999 non-null  int64  \n",
      " 4   time_spend_company     14999 non-null  int64  \n",
      " 5   Work_accident          14999 non-null  int64  \n",
      " 6   left                   14999 non-null  int64  \n",
      " 7   promotion_last_5years  14999 non-null  int64  \n",
      " 8   sales                  14999 non-null  object \n",
      " 9   salary                 14999 non-null  object \n",
      "dtypes: float64(2), int64(6), object(2)\n",
      "memory usage: 1.1+ MB\n"
     ]
    }
   ],
   "source": [
    "data.info()"
   ]
  },
  {
   "cell_type": "markdown",
   "metadata": {
    "id": "rBhLLinQMJHJ"
   },
   "source": [
    "Kode data.info() digunakan untuk menampilkan informasi tentang DataFrame data, termasuk jumlah baris dan kolom, tipe data setiap kolom, dan jumlah nilai non-null di setiap kolom."
   ]
  },
  {
   "cell_type": "code",
   "execution_count": 11,
   "metadata": {
    "colab": {
     "base_uri": "https://localhost:8080/",
     "height": 344
    },
    "id": "tAPUY5oZmBxj",
    "outputId": "7fba7298-b14f-4973-ab86-73471fc93a68"
   },
   "outputs": [
    {
     "data": {
      "text/html": [
       "<div>\n",
       "<style scoped>\n",
       "    .dataframe tbody tr th:only-of-type {\n",
       "        vertical-align: middle;\n",
       "    }\n",
       "\n",
       "    .dataframe tbody tr th {\n",
       "        vertical-align: top;\n",
       "    }\n",
       "\n",
       "    .dataframe thead th {\n",
       "        text-align: right;\n",
       "    }\n",
       "</style>\n",
       "<table border=\"1\" class=\"dataframe\">\n",
       "  <thead>\n",
       "    <tr style=\"text-align: right;\">\n",
       "      <th></th>\n",
       "      <th>satisfaction_level</th>\n",
       "      <th>last_evaluation</th>\n",
       "      <th>number_project</th>\n",
       "      <th>average_montly_hours</th>\n",
       "      <th>time_spend_company</th>\n",
       "      <th>Work_accident</th>\n",
       "      <th>left</th>\n",
       "      <th>promotion_last_5years</th>\n",
       "    </tr>\n",
       "  </thead>\n",
       "  <tbody>\n",
       "    <tr>\n",
       "      <th>count</th>\n",
       "      <td>14999.000000</td>\n",
       "      <td>14999.000000</td>\n",
       "      <td>14999.000000</td>\n",
       "      <td>14999.000000</td>\n",
       "      <td>14999.000000</td>\n",
       "      <td>14999.000000</td>\n",
       "      <td>14999.000000</td>\n",
       "      <td>14999.000000</td>\n",
       "    </tr>\n",
       "    <tr>\n",
       "      <th>mean</th>\n",
       "      <td>0.612834</td>\n",
       "      <td>0.716102</td>\n",
       "      <td>3.803054</td>\n",
       "      <td>201.050337</td>\n",
       "      <td>3.498233</td>\n",
       "      <td>0.144610</td>\n",
       "      <td>0.238083</td>\n",
       "      <td>0.021268</td>\n",
       "    </tr>\n",
       "    <tr>\n",
       "      <th>std</th>\n",
       "      <td>0.248631</td>\n",
       "      <td>0.171169</td>\n",
       "      <td>1.232592</td>\n",
       "      <td>49.943099</td>\n",
       "      <td>1.460136</td>\n",
       "      <td>0.351719</td>\n",
       "      <td>0.425924</td>\n",
       "      <td>0.144281</td>\n",
       "    </tr>\n",
       "    <tr>\n",
       "      <th>min</th>\n",
       "      <td>0.090000</td>\n",
       "      <td>0.360000</td>\n",
       "      <td>2.000000</td>\n",
       "      <td>96.000000</td>\n",
       "      <td>2.000000</td>\n",
       "      <td>0.000000</td>\n",
       "      <td>0.000000</td>\n",
       "      <td>0.000000</td>\n",
       "    </tr>\n",
       "    <tr>\n",
       "      <th>25%</th>\n",
       "      <td>0.440000</td>\n",
       "      <td>0.560000</td>\n",
       "      <td>3.000000</td>\n",
       "      <td>156.000000</td>\n",
       "      <td>3.000000</td>\n",
       "      <td>0.000000</td>\n",
       "      <td>0.000000</td>\n",
       "      <td>0.000000</td>\n",
       "    </tr>\n",
       "    <tr>\n",
       "      <th>50%</th>\n",
       "      <td>0.640000</td>\n",
       "      <td>0.720000</td>\n",
       "      <td>4.000000</td>\n",
       "      <td>200.000000</td>\n",
       "      <td>3.000000</td>\n",
       "      <td>0.000000</td>\n",
       "      <td>0.000000</td>\n",
       "      <td>0.000000</td>\n",
       "    </tr>\n",
       "    <tr>\n",
       "      <th>75%</th>\n",
       "      <td>0.820000</td>\n",
       "      <td>0.870000</td>\n",
       "      <td>5.000000</td>\n",
       "      <td>245.000000</td>\n",
       "      <td>4.000000</td>\n",
       "      <td>0.000000</td>\n",
       "      <td>0.000000</td>\n",
       "      <td>0.000000</td>\n",
       "    </tr>\n",
       "    <tr>\n",
       "      <th>max</th>\n",
       "      <td>1.000000</td>\n",
       "      <td>1.000000</td>\n",
       "      <td>7.000000</td>\n",
       "      <td>310.000000</td>\n",
       "      <td>10.000000</td>\n",
       "      <td>1.000000</td>\n",
       "      <td>1.000000</td>\n",
       "      <td>1.000000</td>\n",
       "    </tr>\n",
       "  </tbody>\n",
       "</table>\n",
       "</div>"
      ],
      "text/plain": [
       "       satisfaction_level  last_evaluation  number_project  \\\n",
       "count        14999.000000     14999.000000    14999.000000   \n",
       "mean             0.612834         0.716102        3.803054   \n",
       "std              0.248631         0.171169        1.232592   \n",
       "min              0.090000         0.360000        2.000000   \n",
       "25%              0.440000         0.560000        3.000000   \n",
       "50%              0.640000         0.720000        4.000000   \n",
       "75%              0.820000         0.870000        5.000000   \n",
       "max              1.000000         1.000000        7.000000   \n",
       "\n",
       "       average_montly_hours  time_spend_company  Work_accident          left  \\\n",
       "count          14999.000000        14999.000000   14999.000000  14999.000000   \n",
       "mean             201.050337            3.498233       0.144610      0.238083   \n",
       "std               49.943099            1.460136       0.351719      0.425924   \n",
       "min               96.000000            2.000000       0.000000      0.000000   \n",
       "25%              156.000000            3.000000       0.000000      0.000000   \n",
       "50%              200.000000            3.000000       0.000000      0.000000   \n",
       "75%              245.000000            4.000000       0.000000      0.000000   \n",
       "max              310.000000           10.000000       1.000000      1.000000   \n",
       "\n",
       "       promotion_last_5years  \n",
       "count           14999.000000  \n",
       "mean                0.021268  \n",
       "std                 0.144281  \n",
       "min                 0.000000  \n",
       "25%                 0.000000  \n",
       "50%                 0.000000  \n",
       "75%                 0.000000  \n",
       "max                 1.000000  "
      ]
     },
     "execution_count": 11,
     "metadata": {},
     "output_type": "execute_result"
    }
   ],
   "source": [
    "data.describe()"
   ]
  },
  {
   "cell_type": "markdown",
   "metadata": {
    "id": "llSPxqWwMV4G"
   },
   "source": [
    "Kode data.describe() digunakan untuk menghitung statistik deskriptif dari setiap kolom dalam DataFrame data, seperti jumlah, rata-rata, standar deviasi, minimum, kuartil, dan maksimum."
   ]
  },
  {
   "cell_type": "code",
   "execution_count": 12,
   "metadata": {
    "colab": {
     "base_uri": "https://localhost:8080/"
    },
    "id": "pF7FFk4pmFVr",
    "outputId": "dceeafa6-7764-449a-b625-fe7d3637403a"
   },
   "outputs": [
    {
     "data": {
      "text/plain": [
       "satisfaction_level        92\n",
       "last_evaluation           65\n",
       "number_project             6\n",
       "average_montly_hours     215\n",
       "time_spend_company         8\n",
       "Work_accident              2\n",
       "left                       2\n",
       "promotion_last_5years      2\n",
       "sales                     10\n",
       "salary                     3\n",
       "dtype: int64"
      ]
     },
     "execution_count": 12,
     "metadata": {},
     "output_type": "execute_result"
    }
   ],
   "source": [
    "data.nunique()"
   ]
  },
  {
   "cell_type": "markdown",
   "metadata": {
    "id": "D9NRcQCge3eN"
   },
   "source": [
    "Kode data.nunique() digunakan untuk menghitung jumlah nilai unik (distinct values) dalam setiap kolom dalam DataFrame data."
   ]
  },
  {
   "cell_type": "code",
   "execution_count": 13,
   "metadata": {
    "colab": {
     "base_uri": "https://localhost:8080/"
    },
    "id": "nhXuBltZmIm-",
    "outputId": "bb3f1a6d-ca6c-43ce-d4b2-89a543ca9a64"
   },
   "outputs": [
    {
     "data": {
      "text/plain": [
       "array([2, 5, 7, 6, 4, 3], dtype=int64)"
      ]
     },
     "execution_count": 13,
     "metadata": {},
     "output_type": "execute_result"
    }
   ],
   "source": [
    "data['number_project'].unique()"
   ]
  },
  {
   "cell_type": "markdown",
   "metadata": {
    "id": "rWosmm6FMvMN"
   },
   "source": [
    "Kode data['number_project'].unique() digunakan untuk mengembalikan daftar nilai unik (distinct values) dari kolom 'number_project' dalam DataFrame data."
   ]
  },
  {
   "cell_type": "code",
   "execution_count": 14,
   "metadata": {
    "colab": {
     "base_uri": "https://localhost:8080/"
    },
    "id": "V6T0kNG8mN-t",
    "outputId": "81db0532-632a-4fc0-9924-a16ef400dd59"
   },
   "outputs": [
    {
     "data": {
      "text/plain": [
       "4    4365\n",
       "3    4055\n",
       "5    2761\n",
       "2    2388\n",
       "6    1174\n",
       "7     256\n",
       "Name: number_project, dtype: int64"
      ]
     },
     "execution_count": 14,
     "metadata": {},
     "output_type": "execute_result"
    }
   ],
   "source": [
    "data['number_project'].value_counts()"
   ]
  },
  {
   "cell_type": "markdown",
   "metadata": {
    "id": "ZXGUt84LM7fL"
   },
   "source": [
    "Kode data['number_project'].value_counts() digunakan untuk menghitung frekuensi kemunculan (count) setiap nilai dalam kolom 'number_project' dalam DataFrame data."
   ]
  },
  {
   "cell_type": "code",
   "execution_count": 15,
   "metadata": {
    "colab": {
     "base_uri": "https://localhost:8080/",
     "height": 385
    },
    "id": "LG0Rr16YmUBF",
    "outputId": "139c9fd0-777a-4db0-c548-c3e2dddbbc94"
   },
   "outputs": [
    {
     "data": {
      "image/png": "[encoded data removed]",
      "text/plain": [
       "<Figure size 1500x600 with 1 Axes>"
      ]
     },
     "metadata": {},
     "output_type": "display_data"
    }
   ],
   "source": [
    "plt.figure(figsize=(15,6))\n",
    "sns.countplot(x='number_project', data=data, palette='hls')\n",
    "plt.xticks(rotation=90)\n",
    "plt.show()"
   ]
  },
  {
   "cell_type": "markdown",
   "metadata": {
    "id": "5fq57AzRNLgv"
   },
   "source": [
    "Kode di atas digunakan untuk membuat sebuah plot grafik batang (bar chart) dengan menggunakan library Seaborn untuk menggambarkan distribusi frekuensi kemunculan (count) pada setiap nilai di dalam kolom 'number_project' dari DataFrame data.\n",
    "\n",
    "1. plt.figure(figsize=(15,6)): Membuat sebuah figure dengan ukuran 15x6 inch.\n",
    "2. sns.countplot(x='number_project', data=data, palette='hls'): Membuat plot grafik batang menggunakan Seaborn dengan sumbu-x adalah 'number_project' dan data yang digunakan adalah DataFrame data. Palet warna yang digunakan adalah 'hls'.\n",
    "3. plt.xticks(rotation=90): Memutar label sumbu-x sebesar 90 derajat, agar mudah dibaca.\n",
    "4. plt.show(): Menampilkan plot grafik."
   ]
  },
  {
   "cell_type": "code",
   "execution_count": 16,
   "metadata": {
    "colab": {
     "base_uri": "https://localhost:8080/"
    },
    "id": "41T5nV0jmiI7",
    "outputId": "7e998b2d-5117-4267-dfb2-4caebb560c8e"
   },
   "outputs": [
    {
     "data": {
      "text/plain": [
       "array([ 3,  6,  4,  5,  2,  8, 10,  7], dtype=int64)"
      ]
     },
     "execution_count": 16,
     "metadata": {},
     "output_type": "execute_result"
    }
   ],
   "source": [
    "data['time_spend_company'].unique()"
   ]
  },
  {
   "cell_type": "markdown",
   "metadata": {
    "id": "jV5hufG5NjbO"
   },
   "source": [
    "Kode data['time_spend_company'].unique() digunakan untuk mengembalikan daftar nilai unik (distinct values) dari kolom 'time_spend_company' dalam DataFrame data."
   ]
  },
  {
   "cell_type": "code",
   "execution_count": 17,
   "metadata": {
    "colab": {
     "base_uri": "https://localhost:8080/"
    },
    "id": "Yq64Ak88mnce",
    "outputId": "8161ecfe-b7c6-49c4-c7bf-31d85e25d381"
   },
   "outputs": [
    {
     "data": {
      "text/plain": [
       "3     6443\n",
       "2     3244\n",
       "4     2557\n",
       "5     1473\n",
       "6      718\n",
       "10     214\n",
       "7      188\n",
       "8      162\n",
       "Name: time_spend_company, dtype: int64"
      ]
     },
     "execution_count": 17,
     "metadata": {},
     "output_type": "execute_result"
    }
   ],
   "source": [
    "data['time_spend_company'].value_counts()"
   ]
  },
  {
   "cell_type": "markdown",
   "metadata": {
    "id": "EE3VIEr4NwC5"
   },
   "source": [
    "Digunakan untuk menghitung frekuensi kemunculan (count) setiap nilai dalam kolom 'time_spend_company' dalam DataFrame data."
   ]
  },
  {
   "cell_type": "code",
   "execution_count": 18,
   "metadata": {
    "colab": {
     "base_uri": "https://localhost:8080/",
     "height": 392
    },
    "id": "WMalX4SMmu1V",
    "outputId": "a810dc03-87f9-4b91-9883-243251271adc"
   },
   "outputs": [
    {
     "data": {
      "image/png": "[encoded data removed]",
      "text/plain": [
       "<Figure size 1500x600 with 1 Axes>"
      ]
     },
     "metadata": {},
     "output_type": "display_data"
    }
   ],
   "source": [
    "plt.figure(figsize = (15, 6))\n",
    "sns.countplot(x='time_spend_company', data = data, palette = 'hls')\n",
    "plt.xticks(rotation = 90)\n",
    "plt.show()"
   ]
  },
  {
   "cell_type": "markdown",
   "metadata": {
    "id": "pAFBXz4ROMSe"
   },
   "source": [
    "Kode di atas digunakan untuk membuat sebuah plot grafik batang (bar chart) dengan menggunakan library Seaborn untuk menggambarkan distribusi frekuensi kemunculan (count) pada setiap nilai di dalam kolom 'time_spend_company' dari DataFrame data.\n",
    "\n",
    "1. plt.figure(figsize=(15,6)): Membuat sebuah figure dengan ukuran 15x6 inch.\n",
    "2. sns.countplot(x='time_spend_company', data=data, palette='hls'): Membuat plot grafik batang menggunakan Seaborn dengan sumbu-x adalah 'time_spend_company' dan data yang digunakan adalah DataFrame data. Palet warna yang digunakan adalah 'hls'.\n",
    "3. plt.xticks(rotation=90): Memutar label sumbu-x sebesar 90 derajat, agar mudah dibaca.\n",
    "4. plt.show(): Menampilkan plot grafik."
   ]
  },
  {
   "cell_type": "code",
   "execution_count": 19,
   "metadata": {
    "colab": {
     "base_uri": "https://localhost:8080/"
    },
    "id": "MYgZbU1fm_rD",
    "outputId": "7c5e978a-2d80-4222-aa0f-1e280a00a8bb"
   },
   "outputs": [
    {
     "data": {
      "text/plain": [
       "array([0, 1], dtype=int64)"
      ]
     },
     "execution_count": 19,
     "metadata": {},
     "output_type": "execute_result"
    }
   ],
   "source": [
    "data['Work_accident'].unique()"
   ]
  },
  {
   "cell_type": "markdown",
   "metadata": {
    "id": "BBpF5pa0OeUP"
   },
   "source": [
    "Digunakan untuk mengembalikan daftar nilai unik (distinct values) dari kolom 'Work_accident' dalam DataFrame data."
   ]
  },
  {
   "cell_type": "code",
   "execution_count": 20,
   "metadata": {
    "colab": {
     "base_uri": "https://localhost:8080/"
    },
    "id": "7tJQqYydnEqA",
    "outputId": "1b28ea1a-5c86-4993-cf45-6c21ae759ac8"
   },
   "outputs": [
    {
     "data": {
      "text/plain": [
       "0    12830\n",
       "1     2169\n",
       "Name: Work_accident, dtype: int64"
      ]
     },
     "execution_count": 20,
     "metadata": {},
     "output_type": "execute_result"
    }
   ],
   "source": [
    "data['Work_accident'].value_counts()"
   ]
  },
  {
   "cell_type": "markdown",
   "metadata": {
    "id": "LRr01rf7O2rq"
   },
   "source": [
    "Digunakan untuk menghitung frekuensi kemunculan (count) setiap nilai dalam kolom 'Work_accident' pada DataFrame data."
   ]
  },
  {
   "cell_type": "code",
   "execution_count": 21,
   "metadata": {
    "colab": {
     "base_uri": "https://localhost:8080/",
     "height": 385
    },
    "id": "jsXxDYJHnMlL",
    "outputId": "5f00b1f9-57d6-4d5e-e30b-31f5de9ae5ff"
   },
   "outputs": [
    {
     "data": {
      "image/png": "[encoded data removed]",
      "text/plain": [
       "<Figure size 1500x600 with 1 Axes>"
      ]
     },
     "metadata": {},
     "output_type": "display_data"
    }
   ],
   "source": [
    "plt.figure(figsize = (15, 6))\n",
    "sns.countplot(x='Work_accident', data = data, palette = 'hls')\n",
    "plt.xticks(rotation = 90)\n",
    "plt.show()"
   ]
  },
  {
   "cell_type": "markdown",
   "metadata": {
    "id": "pouXvfaBRTbe"
   },
   "source": [
    "Kode di atas digunakan untuk membuat sebuah plot menggunakan library seaborn yang menunjukkan jumlah karyawan yang mengalami kecelakaan kerja (Work_accident) dalam dataset data.\n",
    "\n",
    "1. plt.figure(figsize=(15, 6)): ini digunakan untuk menentukan ukuran plot. Ukuran plot dalam contoh ini adalah 15 inci x 6 inci.\n",
    "2.sns.countplot(x='Work_accident', data=data, palette='hls'): ini digunakan untuk membuat plot jumlah karyawan yang mengalami kecelakaan kerja dalam dataset data. x='Work_accident' menunjukkan bahwa sumbu x akan menunjukkan variabel Work_accident, data=data menunjukkan bahwa dataset yang digunakan adalah data, dan palette='hls' menunjukkan bahwa palet warna yang digunakan adalah hls.\n",
    "3. plt.xticks(rotation=90): ini digunakan untuk memutar label pada sumbu x sebesar 90 derajat untuk memperjelas label.\n",
    "4. plt.show(): ini digunakan untuk menampilkan plot yang sudah dibuat."
   ]
  },
  {
   "cell_type": "code",
   "execution_count": 22,
   "metadata": {
    "colab": {
     "base_uri": "https://localhost:8080/"
    },
    "id": "-6KNOBlfnXi8",
    "outputId": "359830f7-bf8e-4ba7-be31-3f41adef3ca5"
   },
   "outputs": [
    {
     "data": {
      "text/plain": [
       "array([1, 0], dtype=int64)"
      ]
     },
     "execution_count": 22,
     "metadata": {},
     "output_type": "execute_result"
    }
   ],
   "source": [
    "data['left'].unique()"
   ]
  },
  {
   "cell_type": "markdown",
   "metadata": {
    "id": "YItBIFaARy6b"
   },
   "source": [
    "Kode di atas digunakan untuk mengetahui nilai-nilai unik dari variabel left dalam dataset data.\n",
    "\n",
    "1. data['left'] mengacu pada kolom left dalam dataset data.\n",
    "2. .unique() adalah metode yang digunakan untuk mengembalikan nilai-nilai unik dalam sebuah array atau kolom.\n",
    "\n",
    "\n",
    "Jadi, kode data['left'].unique() akan menghasilkan array yang berisi nilai unik dari kolom left dalam dataset data. Hal ini berguna untuk mengetahui berapa jumlah kategori pada variabel left dalam dataset data, dan memastikan apakah data tersebut bersih atau terdapat nilai yang tidak valid."
   ]
  },
  {
   "cell_type": "code",
   "execution_count": 23,
   "metadata": {
    "colab": {
     "base_uri": "https://localhost:8080/"
    },
    "id": "agB44fWina4m",
    "outputId": "312848cc-4b01-48b1-e43c-0fcd962e565d"
   },
   "outputs": [
    {
     "data": {
      "text/plain": [
       "0    11428\n",
       "1     3571\n",
       "Name: left, dtype: int64"
      ]
     },
     "execution_count": 23,
     "metadata": {},
     "output_type": "execute_result"
    }
   ],
   "source": [
    "data['left'].value_counts()"
   ]
  },
  {
   "cell_type": "markdown",
   "metadata": {
    "id": "C6xDDc8BSOu5"
   },
   "source": [
    "Kode di atas digunakan untuk menghitung jumlah pengamatan (count) yang terdapat pada setiap kategori pada variabel left dalam dataset data.\n",
    "\n",
    "1. data['left'] mengacu pada kolom left dalam dataset data.\n",
    "2. .value_counts() adalah metode yang digunakan untuk menghitung jumlah pengamatan pada setiap kategori dalam suatu kolom.\n",
    "\n",
    "\n",
    "Jadi, kode data['left'].value_counts() akan menghasilkan jumlah pengamatan pada setiap nilai unik dari kolom left dalam dataset data. Hal ini berguna untuk mengetahui seberapa seimbang (balance) atau tidaknya distribusi kategori pada variabel left, yang dapat membantu dalam pengambilan keputusan terkait analisis yang ingin dilakukan."
   ]
  },
  {
   "cell_type": "code",
   "execution_count": 24,
   "metadata": {
    "colab": {
     "base_uri": "https://localhost:8080/",
     "height": 384
    },
    "id": "Pz9fZHrlngYt",
    "outputId": "5e3e8812-51f3-4309-a55d-76b668dad5b7"
   },
   "outputs": [
    {
     "data": {
      "image/png": "[encoded data removed]",
      "text/plain": [
       "<Figure size 1500x600 with 1 Axes>"
      ]
     },
     "metadata": {},
     "output_type": "display_data"
    }
   ],
   "source": [
    "plt.figure(figsize = (15, 6))\n",
    "sns.countplot(x='left', data = data, palette = 'hls')\n",
    "plt.xticks(rotation = 90)\n",
    "plt.show()"
   ]
  },
  {
   "cell_type": "markdown",
   "metadata": {
    "id": "gCEC-CM2SkVp"
   },
   "source": [
    "Kode di atas digunakan untuk membuat sebuah plot menggunakan library seaborn yang menunjukkan jumlah karyawan yang berhenti (left) dalam dataset data.\n",
    "\n",
    "1. plt.figure(figsize=(15, 6)): ini digunakan untuk menentukan ukuran plot. Ukuran plot dalam contoh ini adalah 15 inci x 6 inci.\n",
    "2. sns.countplot(x='left', data=data, palette='hls'): ini digunakan untuk membuat plot jumlah karyawan yang berhenti dalam dataset data. x='left' menunjukkan bahwa sumbu x akan menunjukkan variabel left, data=data menunjukkan bahwa dataset yang digunakan adalah data, dan palette='hls' menunjukkan bahwa palet warna yang digunakan adalah hls.\n",
    "3. plt.xticks(rotation=90): ini digunakan untuk memutar label pada sumbu x sebesar 90 derajat untuk memperjelas label.\n",
    "4. plt.show(): ini digunakan untuk menampilkan plot yang sudah dibuat."
   ]
  },
  {
   "cell_type": "code",
   "execution_count": 25,
   "metadata": {
    "colab": {
     "base_uri": "https://localhost:8080/"
    },
    "id": "L9kokcYDnreq",
    "outputId": "432eba42-008c-4c5b-f611-527fb8c00164"
   },
   "outputs": [
    {
     "data": {
      "text/plain": [
       "array([0, 1], dtype=int64)"
      ]
     },
     "execution_count": 25,
     "metadata": {},
     "output_type": "execute_result"
    }
   ],
   "source": [
    "data['promotion_last_5years'].unique()"
   ]
  },
  {
   "cell_type": "markdown",
   "metadata": {
    "id": "geq5Z1_1S1zt"
   },
   "source": [
    "Kode di atas digunakan untuk mengetahui nilai-nilai unik dari variabel promotion_last_5years dalam dataset data.\n",
    "\n",
    "1. data['promotion_last_5years'] mengacu pada kolom promotion_last_5years dalam dataset data.\n",
    "2. unique() adalah metode yang digunakan untuk mengembalikan nilai-nilai unik dalam sebuah array atau kolom.\n",
    "\n",
    "\n",
    "Jadi, kode data['promotion_last_5years'].unique() akan menghasilkan array yang berisi nilai unik dari kolom promotion_last_5years dalam dataset data. Hal ini berguna untuk mengetahui berapa jumlah kategori pada variabel promotion_last_5years dalam dataset data, dan memastikan apakah data tersebut bersih atau terdapat nilai yang tidak valid."
   ]
  },
  {
   "cell_type": "code",
   "execution_count": 26,
   "metadata": {
    "colab": {
     "base_uri": "https://localhost:8080/"
    },
    "id": "QDcOdISfnwKU",
    "outputId": "31b2ec82-ea9c-4aa9-b7d6-63a27d334dbc"
   },
   "outputs": [
    {
     "data": {
      "text/plain": [
       "0    14680\n",
       "1      319\n",
       "Name: promotion_last_5years, dtype: int64"
      ]
     },
     "execution_count": 26,
     "metadata": {},
     "output_type": "execute_result"
    }
   ],
   "source": [
    "data['promotion_last_5years'].value_counts()\n"
   ]
  },
  {
   "cell_type": "markdown",
   "metadata": {
    "id": "_bDzP6CuTHij"
   },
   "source": [
    "Kode di atas digunakan untuk menghitung jumlah pengamatan (count) yang terdapat pada setiap kategori pada variabel promotion_last_5years dalam dataset data.\n",
    "\n",
    "1. data['promotion_last_5years'] mengacu pada kolom promotion_last_5years dalam dataset data.\n",
    "2. .value_counts() adalah metode yang digunakan untuk menghitung jumlah pengamatan pada setiap kategori dalam suatu kolom.\n",
    "\n",
    "\n",
    "Jadi, kode data['promotion_last_5years'].value_counts() akan menghasilkan jumlah pengamatan pada setiap nilai unik dari kolom promotion_last_5years dalam dataset data. Hal ini berguna untuk mengetahui seberapa seimbang (balance) atau tidaknya distribusi kategori pada variabel promotion_last_5years, yang dapat membantu dalam pengambilan keputusan terkait analisis yang ingin dilakukan."
   ]
  },
  {
   "cell_type": "code",
   "execution_count": 27,
   "metadata": {
    "colab": {
     "base_uri": "https://localhost:8080/",
     "height": 385
    },
    "id": "Wh5i5kYxn1ix",
    "outputId": "fd9ee3e4-eeb4-48ae-fe03-3d0f98799da2"
   },
   "outputs": [
    {
     "data": {
      "image/png": "[encoded data removed]",
      "text/plain": [
       "<Figure size 1500x600 with 1 Axes>"
      ]
     },
     "metadata": {},
     "output_type": "display_data"
    }
   ],
   "source": [
    "plt.figure(figsize = (15, 6))\n",
    "sns.countplot(x='promotion_last_5years', data = data, palette = 'hls')\n",
    "plt.xticks(rotation = 90)\n",
    "plt.show()"
   ]
  },
  {
   "cell_type": "markdown",
   "metadata": {
    "id": "NqRWl79KTZD5"
   },
   "source": [
    "Kode di atas digunakan untuk membuat sebuah plot menggunakan library seaborn yang menunjukkan jumlah karyawan yang mendapatkan promosi dalam 5 tahun terakhir (promotion_last_5years) dalam dataset data.\n",
    "\n",
    "1. plt.figure(figsize=(15, 6)): ini digunakan untuk menentukan ukuran plot. Ukuran plot dalam contoh ini adalah 15 inci x 6 inci.\n",
    "2. sns.countplot(x='promotion_last_5years', data=data, palette='hls'): ini digunakan untuk membuat plot jumlah karyawan yang mendapatkan promosi dalam 5 tahun terakhir dalam dataset data. x='promotion_last_5years' menunjukkan bahwa sumbu x akan menunjukkan variabel promotion_last_5years, data=data menunjukkan bahwa dataset yang digunakan adalah data, dan palette='hls' menunjukkan bahwa palet warna yang digunakan adalah hls.\n",
    "3. plt.xticks(rotation=90): ini digunakan untuk memutar label pada sumbu x sebesar 90 derajat untuk memperjelas label.\n",
    "4. plt.show(): ini digunakan untuk menampilkan plot yang sudah dibuat."
   ]
  },
  {
   "cell_type": "code",
   "execution_count": 28,
   "metadata": {
    "colab": {
     "base_uri": "https://localhost:8080/"
    },
    "id": "L9cdCO4loFZq",
    "outputId": "74f642a8-b7c3-4248-c6a8-5b80b70785a4"
   },
   "outputs": [
    {
     "data": {
      "text/plain": [
       "array(['sales', 'accounting', 'hr', 'technical', 'support', 'management',\n",
       "       'IT', 'product_mng', 'marketing', 'RandD'], dtype=object)"
      ]
     },
     "execution_count": 28,
     "metadata": {},
     "output_type": "execute_result"
    }
   ],
   "source": [
    "data['sales'].unique()"
   ]
  },
  {
   "cell_type": "markdown",
   "metadata": {
    "id": "azx3m3MTTmPI"
   },
   "source": [
    "Kode di atas digunakan untuk mengetahui nilai-nilai unik dari variabel sales dalam dataset data.\n",
    "\n",
    "1. data['sales'] mengacu pada kolom sales dalam dataset data.\n",
    "2. .unique() adalah metode yang digunakan untuk mengembalikan nilai-nilai unik dalam sebuah array atau kolom."
   ]
  },
  {
   "cell_type": "code",
   "execution_count": 29,
   "metadata": {
    "colab": {
     "base_uri": "https://localhost:8080/"
    },
    "id": "SXUMuaifoIQF",
    "outputId": "d4be9364-2798-46a0-a8a3-c550b3d36e3c"
   },
   "outputs": [
    {
     "data": {
      "text/plain": [
       "sales          4140\n",
       "technical      2720\n",
       "support        2229\n",
       "IT             1227\n",
       "product_mng     902\n",
       "marketing       858\n",
       "RandD           787\n",
       "accounting      767\n",
       "hr              739\n",
       "management      630\n",
       "Name: sales, dtype: int64"
      ]
     },
     "execution_count": 29,
     "metadata": {},
     "output_type": "execute_result"
    }
   ],
   "source": [
    "data['sales'].value_counts()"
   ]
  },
  {
   "cell_type": "markdown",
   "metadata": {
    "id": "5hUulm80T7sq"
   },
   "source": [
    "Kode di atas digunakan untuk menghitung jumlah pengamatan (count) yang terdapat pada setiap kategori pada variabel sales dalam dataset data.\n",
    "\n",
    "1. data['sales'] mengacu pada kolom sales dalam dataset data.\n",
    "2. .value_counts() adalah metode yang digunakan untuk menghitung jumlah pengamatan pada setiap kategori dalam suatu kolom."
   ]
  },
  {
   "cell_type": "code",
   "execution_count": 30,
   "metadata": {
    "colab": {
     "base_uri": "https://localhost:8080/",
     "height": 445
    },
    "id": "hgUwKgDqoLIw",
    "outputId": "6ff68c8f-6bbc-4d15-f76a-c7ae9ce370bb"
   },
   "outputs": [
    {
     "data": {
      "image/png": "[encoded data removed]",
      "text/plain": [
       "<Figure size 1500x600 with 1 Axes>"
      ]
     },
     "metadata": {},
     "output_type": "display_data"
    }
   ],
   "source": [
    "plt.figure(figsize = (15, 6))\n",
    "sns.countplot(x='sales', data = data, palette = 'hls')\n",
    "plt.xticks(rotation = 90)\n",
    "plt.show()"
   ]
  },
  {
   "cell_type": "markdown",
   "metadata": {
    "id": "UrMfHb-FUOqT"
   },
   "source": [
    "Kode di atas digunakan untuk membuat sebuah plot menggunakan library seaborn yang menunjukkan jumlah karyawan pada setiap departemen dalam dataset data.\n",
    "\n",
    "1. plt.figure(figsize=(15, 6)): ini digunakan untuk menentukan ukuran plot. Ukuran plot dalam contoh ini adalah 15 inci x 6 inci.\n",
    "2. sns.countplot(x='sales', data=data, palette='hls'): ini digunakan untuk membuat plot jumlah karyawan pada setiap departemen dalam dataset data. x='sales' menunjukkan bahwa sumbu x akan menunjukkan variabel sales, data=data menunjukkan bahwa dataset yang digunakan adalah data, dan palette='hls' menunjukkan bahwa palet warna yang digunakan adalah hls.\n",
    "3. plt.xticks(rotation=90): ini digunakan untuk memutar label pada sumbu x sebesar 90 derajat untuk memperjelas label.\n",
    "4. plt.show(): ini digunakan untuk menampilkan plot yang sudah dibuat."
   ]
  },
  {
   "cell_type": "code",
   "execution_count": 31,
   "metadata": {
    "colab": {
     "base_uri": "https://localhost:8080/"
    },
    "id": "Hl9dscCKoXFh",
    "outputId": "36f20c16-ff50-4d35-8b3a-facfb53d77f2"
   },
   "outputs": [
    {
     "data": {
      "text/plain": [
       "array(['low', 'medium', 'high'], dtype=object)"
      ]
     },
     "execution_count": 31,
     "metadata": {},
     "output_type": "execute_result"
    }
   ],
   "source": [
    "data['salary'].unique()"
   ]
  },
  {
   "cell_type": "markdown",
   "metadata": {
    "id": "lz5JfzVVUhGz"
   },
   "source": [
    "Kode di atas digunakan untuk mengetahui nilai-nilai unik dari variabel salary dalam dataset data.\n",
    "\n",
    "1. data['salary'] mengacu pada kolom salary dalam dataset data.\n",
    "2. .unique() adalah metode yang digunakan untuk mengembalikan nilai-nilai unik dalam sebuah array atau kolom."
   ]
  },
  {
   "cell_type": "code",
   "execution_count": 32,
   "metadata": {
    "colab": {
     "base_uri": "https://localhost:8080/"
    },
    "id": "C56ji1sjobMm",
    "outputId": "8b7f98cd-1158-44f5-8477-b2f73dd70285"
   },
   "outputs": [
    {
     "data": {
      "text/plain": [
       "low       7316\n",
       "medium    6446\n",
       "high      1237\n",
       "Name: salary, dtype: int64"
      ]
     },
     "execution_count": 32,
     "metadata": {},
     "output_type": "execute_result"
    }
   ],
   "source": [
    "data['salary'].value_counts()"
   ]
  },
  {
   "cell_type": "markdown",
   "metadata": {
    "id": "u1pL1jbhUwWc"
   },
   "source": [
    "Kode di atas digunakan untuk menghitung jumlah pengamatan (count) yang terdapat pada setiap kategori pada variabel salary dalam dataset data.\n",
    "\n",
    "1. data['salary'] mengacu pada kolom salary dalam dataset data.\n",
    "2. .value_counts() adalah metode yang digunakan untuk menghitung jumlah pengamatan pada setiap kategori dalam suatu kolom."
   ]
  },
  {
   "cell_type": "code",
   "execution_count": 33,
   "metadata": {
    "colab": {
     "base_uri": "https://localhost:8080/",
     "height": 419
    },
    "id": "6031BTX9oo30",
    "outputId": "04d22d07-789f-4349-9de5-ccbb84818d9f"
   },
   "outputs": [
    {
     "data": {
      "image/png": "[encoded data removed]",
      "text/plain": [
       "<Figure size 1500x600 with 1 Axes>"
      ]
     },
     "metadata": {},
     "output_type": "display_data"
    }
   ],
   "source": [
    "plt.figure(figsize = (15, 6))\n",
    "sns.countplot(x='salary', data = data, palette = 'hls')\n",
    "plt.xticks(rotation = 90)\n",
    "plt.show()"
   ]
  },
  {
   "cell_type": "markdown",
   "metadata": {
    "id": "sSiTh9AdVFQE"
   },
   "source": [
    "Kode di atas digunakan untuk membuat sebuah plot menggunakan library seaborn yang menunjukkan jumlah karyawan pada setiap kategori gaji dalam dataset data.\n",
    "\n",
    "1. plt.figure(figsize=(15, 6)): ini digunakan untuk menentukan ukuran plot. Ukuran plot dalam contoh ini adalah 15 inci x 6 inci.\n",
    "2. sns.countplot(x='salary', data=data, palette='hls'): ini digunakan untuk membuat plot jumlah karyawan pada setiap kategori gaji dalam dataset data. x='salary' menunjukkan bahwa sumbu x akan menunjukkan variabel salary, data=data menunjukkan bahwa dataset yang digunakan adalah data, dan palette='hls' menunjukkan bahwa palet warna yang digunakan adalah hls.\n",
    "3. plt.xticks(rotation=90): ini digunakan untuk memutar label pada sumbu x sebesar 90 derajat untuk memperjelas label.\n",
    "4. plt.show(): ini digunakan untuk menampilkan plot yang sudah dibuat.\n"
   ]
  },
  {
   "cell_type": "code",
   "execution_count": 34,
   "metadata": {
    "id": "EadiiDBoo_--"
   },
   "outputs": [],
   "source": [
    "data = data.rename(columns = {'sales':'department'})"
   ]
  },
  {
   "cell_type": "markdown",
   "metadata": {
    "id": "jv89V1MeVc3s"
   },
   "source": [
    "Kode di atas digunakan untuk mengubah nama kolom sales menjadi department dalam dataset data.\n",
    "\n",
    "1. data.rename(columns={'sales':'department'}): fungsi ini digunakan untuk mengganti nama kolom dalam dataset. Di sini, kolom sales diganti namanya menjadi department.\n",
    "2. data = : kode ini digunakan untuk menyimpan hasil penggantian nama kolom ke dalam dataset data."
   ]
  },
  {
   "cell_type": "code",
   "execution_count": 35,
   "metadata": {
    "id": "Rd2vv6jHpG02"
   },
   "outputs": [],
   "source": [
    "data['department'] = np.where(data['department'] == 'support',\n",
    "                              'technical', data['department'])\n",
    "data['department'] = np.where(data['department'] == 'IT',\n",
    "                              'technical', data['department'])\n"
   ]
  },
  {
   "cell_type": "markdown",
   "metadata": {
    "id": "PaMOtZ2AV7zw"
   },
   "source": [
    "Kode di atas digunakan untuk menggabungkan kategori yang serupa dalam variabel department dalam dataset data.\n",
    "\n",
    "1. np.where(condition, x, y): fungsi ini memungkinkan kita untuk mengubah nilai dalam suatu array berdasarkan kondisi tertentu. Di sini, kita menggunakan fungsi ini untuk mengganti nilai dalam kolom department. condition adalah kondisi yang akan dievaluasi, x adalah nilai yang akan diambil jika kondisi benar, dan y adalah nilai yang akan diambil jika kondisi salah.\n",
    "2. data['department'] == 'support': kondisi pertama adalah ketika nilai dalam kolom department sama dengan 'support'.\n",
    "3. 'technical': jika kondisi pertama benar, nilai dalam kolom department akan diubah menjadi 'technical'.\n",
    "4. data['department']: kondisi kedua adalah ketika nilai dalam kolom department tidak sama dengan 'support'. Jika kondisi pertama salah, maka nilai dalam kolom department tidak diubah."
   ]
  },
  {
   "cell_type": "code",
   "execution_count": 36,
   "metadata": {
    "id": "5GABMQ4zpbqQ"
   },
   "outputs": [],
   "source": [
    "cat_vars = ['department','salary']\n",
    "for var in cat_vars:\n",
    "  cat_list = 'var' +  '_' + var\n",
    "  cat_list = pd.get_dummies(data[var], prefix = var)\n",
    "  data1 = data.join(cat_list)\n",
    "  data = data1"
   ]
  },
  {
   "cell_type": "markdown",
   "metadata": {
    "id": "lhBxi1wcWSmk"
   },
   "source": [
    "Kode di atas digunakan untuk membuat variabel dummy untuk variabel kategorikal department dan salary dalam dataset data.\n",
    "\n",
    "1. cat_vars = ['department','salary']: variabel cat_vars berisi nama variabel kategorikal yang akan dijadikan dummy.\n",
    "2. for var in cat_vars:: untuk setiap variabel dalam variabel cat_vars, jalankan perulangan berikut:\n",
    "3. cat_list = 'var' + '_' + var: buat nama baru untuk variabel dummy.\n",
    "4. cat_list = pd.get_dummies(data[var], prefix = var): fungsi get_dummies() dari Pandas digunakan untuk mengubah variabel kategorikal menjadi variabel dummy. Variabel dummy ini kemudian disimpan dalam variabel cat_list.\n",
    "5. data1 = data.join(cat_list): gabungkan variabel dummy dengan dataset data menggunakan fungsi join().\n",
    "6. data = data1: simpan hasil gabungan tersebut ke dalam dataset data."
   ]
  },
  {
   "cell_type": "code",
   "execution_count": 37,
   "metadata": {
    "colab": {
     "base_uri": "https://localhost:8080/"
    },
    "id": "p9885MsJr3AO",
    "outputId": "8ad00ec8-7f22-4b24-8ba1-e42fa3a49b54"
   },
   "outputs": [
    {
     "data": {
      "text/plain": [
       "array(['satisfaction_level', 'last_evaluation', 'number_project',\n",
       "       'average_montly_hours', 'time_spend_company', 'Work_accident',\n",
       "       'left', 'promotion_last_5years', 'department_RandD',\n",
       "       'department_accounting', 'department_hr', 'department_management',\n",
       "       'department_marketing', 'department_product_mng',\n",
       "       'department_sales', 'department_technical', 'salary_high',\n",
       "       'salary_low', 'salary_medium'], dtype=object)"
      ]
     },
     "execution_count": 37,
     "metadata": {},
     "output_type": "execute_result"
    }
   ],
   "source": [
    "data.drop(data.columns[[8,9]], axis=1, inplace=True)\n",
    "data.columns.values"
   ]
  },
  {
   "cell_type": "markdown",
   "metadata": {
    "id": "fOdpews8Wm-2"
   },
   "source": [
    "Kode di atas digunakan untuk menghapus kolom ke-8 dan ke-9 dari dataset data, kemudian menampilkan kembali nama kolom-kolom yang tersisa.\n",
    "\n",
    "1. data.drop(data.columns[[8,9]], axis=1, inplace=True): menggunakan fungsi drop() dari Pandas, kolom ke-8 dan ke-9 dihapus dari dataset data. Parameter axis=1 menunjukkan bahwa yang dihapus adalah kolom, bukan baris. Parameter inplace=True digunakan agar perubahan dilakukan langsung pada dataset data, tanpa perlu menyimpan hasilnya ke variabel lain.\n",
    "2. data.columns.values: menampilkan kembali nama-nama kolom yang tersisa dalam dataset data."
   ]
  },
  {
   "cell_type": "code",
   "execution_count": 38,
   "metadata": {
    "id": "eW4jYCXicnkF"
   },
   "outputs": [],
   "source": [
    "hr_vars = data.columns.values.tolist()\n",
    "y = ['left']\n",
    "x = [i for i in hr_vars if i not in y]"
   ]
  },
  {
   "cell_type": "code",
   "execution_count": 46,
   "metadata": {},
   "outputs": [
    {
     "ename": "AttributeError",
     "evalue": "'list' object has no attribute 'head'",
     "output_type": "error",
     "traceback": [
      "\u001b[1;31m---------------------------------------------------------------------------\u001b[0m",
      "\u001b[1;31mAttributeError\u001b[0m                            Traceback (most recent call last)",
      "\u001b[1;32m~\\AppData\\Local\\Temp\\ipykernel_21412\\2960800697.py\u001b[0m in \u001b[0;36m<module>\u001b[1;34m\u001b[0m\n\u001b[1;32m----> 1\u001b[1;33m \u001b[0mhr_vars\u001b[0m\u001b[1;33m.\u001b[0m\u001b[0mhead\u001b[0m\u001b[1;33m(\u001b[0m\u001b[1;33m)\u001b[0m\u001b[1;33m\u001b[0m\u001b[1;33m\u001b[0m\u001b[0m\n\u001b[0m",
      "\u001b[1;31mAttributeError\u001b[0m: 'list' object has no attribute 'head'"
     ]
    }
   ],
   "source": [
    "hr_vars.head()"
   ]
  },
  {
   "cell_type": "markdown",
   "metadata": {
    "id": "Vjl82XJdW-3H"
   },
   "source": [
    "Kode di atas digunakan untuk membagi dataset data menjadi dua variabel:\n",
    "\n",
    "1. y: berisi kolom \"left\" dari dataset data, yaitu variabel target atau variabel dependen yang ingin diprediksi dalam analisis.\n",
    "\n",
    "2. x: berisi seluruh kolom di dataset data selain kolom \"left\", yaitu variabel input atau variabel independen yang akan digunakan sebagai dasar untuk memprediksi variabel target.\n",
    "\n",
    "3. hr_vars = data.columns.values.tolist(): mengambil semua nama kolom dalam dataset data dan menyimpannya ke dalam list hr_vars.\n",
    "\n",
    "4. y = ['left']: membuat list y yang berisi satu elemen yaitu 'left'.\n",
    "\n",
    "5. x = [i for i in hr_vars if i not in y]: menggunakan list comprehension untuk membuat list x yang berisi semua elemen dalam hr_vars yang tidak ada di dalam list y, sehingga memuat seluruh kolom di dataset data selain kolom \"left\"."
   ]
  },
  {
   "cell_type": "code",
   "execution_count": 39,
   "metadata": {
    "id": "HknmQ71ccyXL"
   },
   "outputs": [],
   "source": [
    "cols = ['satisfaction_level', 'last_evaluation', 'time_spend_company', 'Work_accident', 'department_RandD', 'department_hr', 'department_management', 'salary_high']\n",
    "X = data[cols]\n",
    "y = data['left']\n"
   ]
  },
  {
   "cell_type": "markdown",
   "metadata": {
    "id": "pqgBocmWXbPs"
   },
   "source": [
    "Kode di atas digunakan untuk memilih subset dari kolom-kolom dalam dataset data sebagai variabel input (X) dan variabel target (y) untuk analisis.\n",
    "\n",
    "1. cols = ['satisfaction_level', 'last_evaluation', 'time_spend_company', 'Work_accident', 'department_RandD', 'department_hr', 'department_management', 'salary_high']: membuat list cols yang berisi nama-nama kolom yang akan diambil dari dataset data.\n",
    "2. X = data[cols]: membuat variabel X yang berisi subset dari dataset data yang hanya memuat kolom-kolom dalam list cols.\n",
    "3. y = data['left']: membuat variabel y yang memuat kolom \"left\" dalam dataset data, yaitu variabel target atau variabel dependen yang ingin diprediksi dalam analisis."
   ]
  },
  {
   "cell_type": "code",
   "execution_count": 42,
   "metadata": {
    "colab": {
     "base_uri": "https://localhost:8080/",
     "height": 75
    },
    "id": "G0OImo-HduXy",
    "outputId": "98b123f7-7794-4fda-c6fa-0b9f10151b85"
   },
   "outputs": [
    {
     "data": {
      "text/plain": [
       "LogisticRegression()"
      ]
     },
     "execution_count": 42,
     "metadata": {},
     "output_type": "execute_result"
    }
   ],
   "source": [
    "from sklearn.model_selection import train_test_split\n",
    "X_train, X_test, y_train, y_test = train_test_split(X, y, test_size=0.3, random_state=0)\n",
    "\n",
    "from sklearn.linear_model import LogisticRegression \n",
    "from sklearn import metrics\n",
    "logreg = LogisticRegression ()\n",
    "logreg.fit(X_train, y_train)"
   ]
  },
  {
   "cell_type": "code",
   "execution_count": 43,
   "metadata": {},
   "outputs": [
    {
     "data": {
      "text/html": [
       "<div>\n",
       "<style scoped>\n",
       "    .dataframe tbody tr th:only-of-type {\n",
       "        vertical-align: middle;\n",
       "    }\n",
       "\n",
       "    .dataframe tbody tr th {\n",
       "        vertical-align: top;\n",
       "    }\n",
       "\n",
       "    .dataframe thead th {\n",
       "        text-align: right;\n",
       "    }\n",
       "</style>\n",
       "<table border=\"1\" class=\"dataframe\">\n",
       "  <thead>\n",
       "    <tr style=\"text-align: right;\">\n",
       "      <th></th>\n",
       "      <th>satisfaction_level</th>\n",
       "      <th>last_evaluation</th>\n",
       "      <th>time_spend_company</th>\n",
       "      <th>Work_accident</th>\n",
       "      <th>department_RandD</th>\n",
       "      <th>department_hr</th>\n",
       "      <th>department_management</th>\n",
       "      <th>salary_high</th>\n",
       "    </tr>\n",
       "  </thead>\n",
       "  <tbody>\n",
       "    <tr>\n",
       "      <th>10438</th>\n",
       "      <td>0.53</td>\n",
       "      <td>0.52</td>\n",
       "      <td>4</td>\n",
       "      <td>0</td>\n",
       "      <td>0</td>\n",
       "      <td>0</td>\n",
       "      <td>0</td>\n",
       "      <td>0</td>\n",
       "    </tr>\n",
       "    <tr>\n",
       "      <th>9236</th>\n",
       "      <td>0.77</td>\n",
       "      <td>0.53</td>\n",
       "      <td>3</td>\n",
       "      <td>0</td>\n",
       "      <td>0</td>\n",
       "      <td>0</td>\n",
       "      <td>0</td>\n",
       "      <td>0</td>\n",
       "    </tr>\n",
       "    <tr>\n",
       "      <th>818</th>\n",
       "      <td>0.89</td>\n",
       "      <td>0.79</td>\n",
       "      <td>2</td>\n",
       "      <td>0</td>\n",
       "      <td>0</td>\n",
       "      <td>0</td>\n",
       "      <td>0</td>\n",
       "      <td>0</td>\n",
       "    </tr>\n",
       "    <tr>\n",
       "      <th>11503</th>\n",
       "      <td>0.64</td>\n",
       "      <td>0.63</td>\n",
       "      <td>6</td>\n",
       "      <td>1</td>\n",
       "      <td>0</td>\n",
       "      <td>0</td>\n",
       "      <td>0</td>\n",
       "      <td>0</td>\n",
       "    </tr>\n",
       "    <tr>\n",
       "      <th>11721</th>\n",
       "      <td>0.98</td>\n",
       "      <td>0.74</td>\n",
       "      <td>3</td>\n",
       "      <td>0</td>\n",
       "      <td>0</td>\n",
       "      <td>0</td>\n",
       "      <td>0</td>\n",
       "      <td>0</td>\n",
       "    </tr>\n",
       "    <tr>\n",
       "      <th>...</th>\n",
       "      <td>...</td>\n",
       "      <td>...</td>\n",
       "      <td>...</td>\n",
       "      <td>...</td>\n",
       "      <td>...</td>\n",
       "      <td>...</td>\n",
       "      <td>...</td>\n",
       "      <td>...</td>\n",
       "    </tr>\n",
       "    <tr>\n",
       "      <th>13123</th>\n",
       "      <td>0.52</td>\n",
       "      <td>0.57</td>\n",
       "      <td>3</td>\n",
       "      <td>0</td>\n",
       "      <td>1</td>\n",
       "      <td>0</td>\n",
       "      <td>0</td>\n",
       "      <td>0</td>\n",
       "    </tr>\n",
       "    <tr>\n",
       "      <th>3264</th>\n",
       "      <td>0.59</td>\n",
       "      <td>0.79</td>\n",
       "      <td>2</td>\n",
       "      <td>0</td>\n",
       "      <td>0</td>\n",
       "      <td>0</td>\n",
       "      <td>0</td>\n",
       "      <td>0</td>\n",
       "    </tr>\n",
       "    <tr>\n",
       "      <th>9845</th>\n",
       "      <td>0.69</td>\n",
       "      <td>0.94</td>\n",
       "      <td>2</td>\n",
       "      <td>0</td>\n",
       "      <td>0</td>\n",
       "      <td>0</td>\n",
       "      <td>0</td>\n",
       "      <td>0</td>\n",
       "    </tr>\n",
       "    <tr>\n",
       "      <th>10799</th>\n",
       "      <td>0.78</td>\n",
       "      <td>0.59</td>\n",
       "      <td>3</td>\n",
       "      <td>0</td>\n",
       "      <td>0</td>\n",
       "      <td>0</td>\n",
       "      <td>0</td>\n",
       "      <td>1</td>\n",
       "    </tr>\n",
       "    <tr>\n",
       "      <th>2732</th>\n",
       "      <td>0.56</td>\n",
       "      <td>0.68</td>\n",
       "      <td>2</td>\n",
       "      <td>0</td>\n",
       "      <td>0</td>\n",
       "      <td>0</td>\n",
       "      <td>0</td>\n",
       "      <td>0</td>\n",
       "    </tr>\n",
       "  </tbody>\n",
       "</table>\n",
       "<p>10499 rows × 8 columns</p>\n",
       "</div>"
      ],
      "text/plain": [
       "       satisfaction_level  last_evaluation  time_spend_company  Work_accident  \\\n",
       "10438                0.53             0.52                   4              0   \n",
       "9236                 0.77             0.53                   3              0   \n",
       "818                  0.89             0.79                   2              0   \n",
       "11503                0.64             0.63                   6              1   \n",
       "11721                0.98             0.74                   3              0   \n",
       "...                   ...              ...                 ...            ...   \n",
       "13123                0.52             0.57                   3              0   \n",
       "3264                 0.59             0.79                   2              0   \n",
       "9845                 0.69             0.94                   2              0   \n",
       "10799                0.78             0.59                   3              0   \n",
       "2732                 0.56             0.68                   2              0   \n",
       "\n",
       "       department_RandD  department_hr  department_management  salary_high  \n",
       "10438                 0              0                      0            0  \n",
       "9236                  0              0                      0            0  \n",
       "818                   0              0                      0            0  \n",
       "11503                 0              0                      0            0  \n",
       "11721                 0              0                      0            0  \n",
       "...                 ...            ...                    ...          ...  \n",
       "13123                 1              0                      0            0  \n",
       "3264                  0              0                      0            0  \n",
       "9845                  0              0                      0            0  \n",
       "10799                 0              0                      0            1  \n",
       "2732                  0              0                      0            0  \n",
       "\n",
       "[10499 rows x 8 columns]"
      ]
     },
     "execution_count": 43,
     "metadata": {},
     "output_type": "execute_result"
    }
   ],
   "source": [
    "X_train"
   ]
  },
  {
   "cell_type": "code",
   "execution_count": 41,
   "metadata": {},
   "outputs": [
    {
     "data": {
      "text/plain": [
       "0        1\n",
       "1        1\n",
       "2        1\n",
       "3        1\n",
       "4        1\n",
       "        ..\n",
       "14994    1\n",
       "14995    1\n",
       "14996    1\n",
       "14997    1\n",
       "14998    1\n",
       "Name: left, Length: 14999, dtype: int64"
      ]
     },
     "execution_count": 41,
     "metadata": {},
     "output_type": "execute_result"
    }
   ],
   "source": [
    "y"
   ]
  },
  {
   "cell_type": "markdown",
   "metadata": {
    "id": "mquUqh-HXzAq"
   },
   "source": [
    "Kode di atas digunakan untuk melakukan pemisahan data menjadi data latih dan data uji serta melakukan pemodelan dengan algoritma Logistic Regression menggunakan library scikit-learn.\n",
    "\n",
    "1. train_test_split(X, y, test_size=0.3, random_state=0): digunakan untuk membagi dataset menjadi data latih dan data uji. X dan y adalah variabel input dan target yang telah ditentukan sebelumnya. test_size menentukan ukuran data uji dalam proporsi dari keseluruhan dataset, dalam hal ini sebesar 30% dari keseluruhan dataset. random_state adalah parameter yang digunakan untuk mengacak data saat proses pemisahan sehingga dapat memberikan hasil yang konsisten ketika kode dijalankan ulang.\n",
    "2. LogisticRegression(): mendefinisikan model Logistic Regression.\n",
    "3. logreg.fit(X_train, y_train): melakukan pelatihan model Logistic Regression menggunakan data latih (X_train dan y_train)."
   ]
  },
  {
   "cell_type": "code",
   "execution_count": null,
   "metadata": {
    "colab": {
     "base_uri": "https://localhost:8080/"
    },
    "id": "saKdlZeHeXBJ",
    "outputId": "9d2e32f6-2c8b-47ee-cd27-d365561d97ae"
   },
   "outputs": [],
   "source": [
    "from sklearn.metrics import accuracy_score\n",
    "y_pred = logreg.predict(X_test)\n",
    "print('Logistic Regression Accuracy: {:.3f}'.format(accuracy_score(y_test, y_pred)))\n"
   ]
  },
  {
   "cell_type": "markdown",
   "metadata": {
    "id": "ZSq2kaq1YFip"
   },
   "source": [
    "Kode di atas digunakan untuk melakukan prediksi dengan model regresi logistik pada data testing dan mencetak akurasi model regresi logistik. Akurasi dihitung dengan membandingkan nilai prediksi dengan nilai aktual pada data testing."
   ]
  },
  {
   "cell_type": "code",
   "execution_count": null,
   "metadata": {
    "colab": {
     "base_uri": "https://localhost:8080/",
     "height": 75
    },
    "id": "blpMHngAf9N-",
    "outputId": "b9cbb73c-06f8-42ea-fcfe-01f2b0c30937"
   },
   "outputs": [],
   "source": [
    "from sklearn.ensemble import RandomForestClassifier\n",
    "rf = RandomForestClassifier()\n",
    "rf.fit(X_train, y_train)\n"
   ]
  },
  {
   "cell_type": "markdown",
   "metadata": {
    "id": "8PzzQJsOYZ80"
   },
   "source": [
    "Kode di atas menggunakan modul RandomForestClassifier dari library scikit-learn untuk membuat model Random Forest Classifier. Model ini kemudian dilatih dengan memanggil method fit() pada objek model dengan memberikan data training X_train dan y_train sebagai input. Dalam proses pelatihan, model akan mempelajari pola dari fitur-fitur pada data training dan label-label yang sesuai.\n",
    "\n",
    "Setelah proses pelatihan selesai, model siap digunakan untuk melakukan prediksi pada data testing."
   ]
  },
  {
   "cell_type": "code",
   "execution_count": null,
   "metadata": {
    "colab": {
     "base_uri": "https://localhost:8080/"
    },
    "id": "Mvem9ItzgtHY",
    "outputId": "e3a9e87c-d34b-4a90-c06b-41e33edff772"
   },
   "outputs": [],
   "source": [
    "print(\"Random Forest Accuracy: {:.3f}\".format(accuracy_score(y_test, rf.predict(X_test))))"
   ]
  },
  {
   "cell_type": "markdown",
   "metadata": {
    "id": "greT0n3PYmf8"
   },
   "source": [
    "Kode di atas digunakan untuk melakukan prediksi pada data testing dengan memanggil method predict() pada objek model rf yang telah dilatih sebelumnya dengan data training. Hasil prediksi kemudian dibandingkan dengan label yang sesuai dari data testing y_test untuk menghitung akurasi dari model Random Forest Classifier tersebut. Akurasi dihitung dengan menggunakan fungsi accuracy_score() dari library scikit-learn."
   ]
  },
  {
   "cell_type": "code",
   "execution_count": null,
   "metadata": {
    "colab": {
     "base_uri": "https://localhost:8080/"
    },
    "id": "jGp_JoxphXBE",
    "outputId": "50045db9-655c-4c72-faaa-8c575e927fd4"
   },
   "outputs": [],
   "source": [
    "from sklearn.metrics import classification_report\n",
    "print(classification_report(y_test, rf.predict(X_test)))"
   ]
  },
  {
   "cell_type": "markdown",
   "metadata": {
    "id": "8RgfbpriYy3G"
   },
   "source": [
    "Kode diatas digunakan untuk menghasilkan laporan klasifikasi yang memuat berbagai metrik evaluasi performa model seperti precision, recall, f1-score, dan support untuk setiap kelas pada data uji (y_test) dan prediksi dari model Random Forest pada data uji (rf.predict(X_test)). Metrik-metrik tersebut digunakan untuk mengukur kinerja model dalam memprediksi kelas positif dan negatif pada data uji."
   ]
  },
  {
   "cell_type": "code",
   "execution_count": null,
   "metadata": {
    "colab": {
     "base_uri": "https://localhost:8080/",
     "height": 313
    },
    "id": "jZFraBw9hiiK",
    "outputId": "445b7f13-5297-480f-f48b-7a8c35096410"
   },
   "outputs": [],
   "source": [
    "y_pred = rf.predict(X_test)\n",
    "\n",
    "from sklearn.metrics import confusion_matrix\n",
    "import seaborn as sns\n",
    "forest_cm = metrics.confusion_matrix(y_test, y_pred)\n",
    "sns.heatmap(forest_cm, annot=True, fmt='.2f')\n",
    "plt.ylabel('True class')\n",
    "plt.xticks(ticks=[0.5, 1.5], labels=[\"Left\", \"Stayed\"])\n",
    "plt.xlabel ('Predicted class')\n",
    "plt.title ('Random Forest')"
   ]
  },
  {
   "cell_type": "markdown",
   "metadata": {
    "id": "3i1DfB3qY3wc"
   },
   "source": [
    "Kode di atas digunakan untuk membuat confusion matrix atau matriks kebingungan, yang merupakan alat evaluasi kinerja dari model klasifikasi (Random Forest) yang telah dilatih pada data. Confusion matrix menunjukkan jumlah prediksi yang benar dan salah dari model, serta jenis kesalahan yang dilakukan oleh model (false positive dan false negative). Heatmap digunakan untuk memvisualisasikan matriks kebingungan dengan tampilan yang lebih mudah dipahami. Label sumbu x dan y menunjukkan kelas sebenarnya (true class) dan kelas yang diprediksi (predicted class) masing-masing. Judul grafik menunjukkan nama model klasifikasi yang digunakan."
   ]
  },
  {
   "cell_type": "code",
   "execution_count": null,
   "metadata": {
    "colab": {
     "base_uri": "https://localhost:8080/"
    },
    "id": "fjUno1TJiVyG",
    "outputId": "6976a2b6-7090-442f-d0d1-3f57cd941e50"
   },
   "outputs": [],
   "source": [
    "print(classification_report(y_test, logreg.predict(X_test)))\n"
   ]
  },
  {
   "cell_type": "markdown",
   "metadata": {
    "id": "ilug8eKsZJSX"
   },
   "source": [
    "Kode di atas digunakan untuk menampilkan classification report dari model logistic regression pada data uji (test set). Classification report menampilkan beberapa metrik evaluasi kinerja model seperti precision, recall, f1-score, dan support untuk setiap kelas (left = 1 atau stayed = 0) serta nilai rata-rata untuk setiap metrik. Dengan mengevaluasi metrik-metrik tersebut, kita dapat mengetahui kinerja model dalam memprediksi kelas target."
   ]
  },
  {
   "cell_type": "code",
   "execution_count": null,
   "metadata": {
    "colab": {
     "base_uri": "https://localhost:8080/",
     "height": 313
    },
    "id": "I-G5eKGzi7Ve",
    "outputId": "dd512724-d107-4170-d09e-84de922de2a7"
   },
   "outputs": [],
   "source": [
    "logreg_y_pred = logreg.predict(X_test)\n",
    "logreg_cm = metrics.confusion_matrix(logreg_y_pred, y_test)\n",
    "sns.heatmap(logreg_cm, annot= True, fmt=\".2f\",\n",
    "            xticklabels = [\"Left\", \"Stayed\"],\n",
    "            yticklabels = [\"Left\", \"Stayed\"])\n",
    "plt.ylabel('True class')\n",
    "plt.xlabel('Predicted class')\n",
    "plt.title('Logistic Regression')"
   ]
  },
  {
   "cell_type": "markdown",
   "metadata": {
    "id": "tKlxeu0gZZIn"
   },
   "source": [
    "Kode di atas digunakan untuk memvisualisasikan confusion matrix dari model Logistic Regression. Confusion matrix digunakan untuk mengevaluasi performa dari model klasifikasi dengan cara menghitung jumlah true positive, false positive, false negative, dan true negative. Pada visualisasi ini, confusion matrix ditampilkan dengan menggunakan heatmap dari library seaborn dan diberi label untuk memudahkan interpretasi hasilnya."
   ]
  },
  {
   "cell_type": "code",
   "execution_count": null,
   "metadata": {
    "colab": {
     "base_uri": "https://localhost:8080/",
     "height": 295
    },
    "id": "YDEH5azAjRlI",
    "outputId": "5bfa0bd1-cdac-4708-b7c7-daa588a9ad51"
   },
   "outputs": [],
   "source": [
    "from sklearn.metrics import roc_auc_score \n",
    "from sklearn.metrics import roc_curve\n",
    "logit_roc_auc = roc_auc_score(y_test, logreg.predict(X_test))\n",
    "fpr, tpr, thresholds = roc_curve(y_test, logreg.predict_proba(X_test) [:,1])\n",
    "rf_roc_auc = roc_auc_score(y_test, rf.predict(X_test))\n",
    "rf_fpr, rf_tpr, rf_thresholds = roc_curve(y_test, rf.predict_proba(X_test)[:,1])\n",
    "plt.figure ()\n",
    "plt.plot(fpr, tpr, label='Logistic Regression (area = %0.2f)' % logit_roc_auc)\n",
    "plt.plot(rf_fpr, rf_tpr, label='Random Forest (area = %0.2f)' % rf_roc_auc)\n",
    "plt.plot ([0, 1], [0, 1], 'r--') \n",
    "plt.xlim([0.0, 1.0]) \n",
    "plt.ylim ([0.0, 1.05]) \n",
    "plt.xlabel ('False Positive Rate') \n",
    "plt.ylabel('True Positive Rate') \n",
    "plt.title('Receiver operating characteristic') \n",
    "plt.legend(loc=\"lower right\") \n",
    "plt.show()"
   ]
  },
  {
   "cell_type": "markdown",
   "metadata": {
    "id": "ndjoCuk3ZoQo"
   },
   "source": [
    "Kode di atas digunakan untuk memplot Receiver Operating Characteristic (ROC) curve dari dua model klasifikasi, yaitu Logistic Regression dan Random Forest. ROC curve digunakan untuk mengevaluasi performa model klasifikasi pada berbagai threshold level. Pada plot ini, sumbu x menunjukkan false positive rate (FPR) sedangkan sumbu y menunjukkan true positive rate (TPR). ROC curve pada umumnya akan mendekati titik kiri atas (diagonal dari kiri atas ke kanan bawah) ketika model klasifikasi sangat baik. Semakin dekat ROC curve ke diagonal tersebut, maka semakin baik model klasifikasinya. Selain itu, semakin besar luasan area di bawah kurva ROC (Area Under Curve atau AUC), semakin baik performa model klasifikasi."
   ]
  },
  {
   "cell_type": "code",
   "execution_count": null,
   "metadata": {
    "colab": {
     "base_uri": "https://localhost:8080/"
    },
    "id": "ZIz0Ap6GyYjh",
    "outputId": "1bb8ea31-060f-4077-cf7e-beb5aa562fc1"
   },
   "outputs": [],
   "source": [
    "feature_labels = np.array(['satisfaction_level', 'last_evaluation', 'number_project',\n",
    "                           'average_monthly_hours', 'time_spend_company', 'Work_accident',\n",
    "                           'promotion_last_5years', 'department_RandD', 'department_hr',\n",
    "                           'department_management', 'salary_low', 'salary_high'])\n",
    "\n",
    "importance = rf.feature_importances_\n",
    "feature_indexes_by_importance = importance.argsort()\n",
    "\n",
    "for index in feature_indexes_by_importance:\n",
    "    print('{}-{:.2f}%'.format(feature_labels[index], (importance[index] *100.0)))\n",
    "\n"
   ]
  },
  {
   "cell_type": "markdown",
   "metadata": {
    "id": "kGKzbsVuZ3tg"
   },
   "source": [
    "Kode diatas berfungsi untuk menghitung dan menampilkan tingkat kepentingan (importance) fitur-fitur dalam model Random Forest. Pertama, ditentukan label untuk setiap fitur, kemudian dihitung importance untuk masing-masing fitur dalam model Random Forest. Kemudian, fitur-fitur diurutkan berdasarkan nilai importance yang dihitung sebelumnya dan ditampilkan dalam urutan menurun. Importance ini dapat digunakan untuk mengetahui mana fitur yang paling berpengaruh dalam memprediksi target kelas pada model Random Forest."
   ]
  },
  {
   "cell_type": "markdown",
   "metadata": {
    "id": "6IO7OsZRfz2T"
   },
   "source": [
    "#**USING INTERFACE**"
   ]
  },
  {
   "cell_type": "code",
   "execution_count": null,
   "metadata": {
    "id": "85j5TlZQdg9w"
   },
   "outputs": [],
   "source": [
    "import tkinter as tk"
   ]
  },
  {
   "cell_type": "code",
   "execution_count": null,
   "metadata": {
    "id": "x6GnYP5PdkNu"
   },
   "outputs": [],
   "source": [
    "# Define function to make prediction\n",
    "def predict_retention():\n",
    "    # Get feature values from user input\n",
    "    satisfaction_level = float(satisfaction_level_entry.get())\n",
    "    last_evaluation = float(last_evaluation_entry.get())\n",
    "    time_spend_company = int(time_spend_company_entry.get())\n",
    "    work_accident = int(work_accident_entry.get())\n",
    "    department_RandD = int(department_RandD_entry.get())\n",
    "    department_hr = int(department_hr_entry.get())\n",
    "    department_management = int(department_management_entry.get())\n",
    "    salary_high = int(salary_high_entry.get())\n",
    "\n",
    "    # Make prediction on new data\n",
    "    new_data = [[satisfaction_level, last_evaluation, time_spend_company, work_accident, department_RandD, department_hr, department_management, salary_high]]\n",
    "    prediction = rf.predict(new_data)\n",
    "    \n",
    "    # Update the prediction label\n",
    "    predicted_class_label.config(text=\"Predicted retention status: \" + str(prediction[0]))\n"
   ]
  },
  {
   "cell_type": "code",
   "execution_count": null,
   "metadata": {
    "colab": {
     "base_uri": "https://localhost:8080/",
     "height": 365
    },
    "id": "ny5Us1aHdm48",
    "outputId": "6524f3e1-1e64-4029-cd8e-610d49267cc8"
   },
   "outputs": [],
   "source": [
    "# Create GUI\n",
    "root = tk.Tk()\n",
    "root.title(\"Employee Retention Prediction\")\n",
    "\n",
    "# Create input fields\n",
    "satisfaction_level_label = tk.Label(root, text=\"Satisfaction Level:\")\n",
    "satisfaction_level_label.grid(row=0, column=0)\n",
    "satisfaction_level_entry = tk.Entry(root)\n",
    "satisfaction_level_entry.grid(row=0, column=1)\n",
    "\n",
    "last_evaluation_label = tk.Label(root, text=\"Last Evaluation:\")\n",
    "last_evaluation_label.grid(row=1, column=0)\n",
    "last_evaluation_entry = tk.Entry(root)\n",
    "last_evaluation_entry.grid(row=1, column=1)\n",
    "\n",
    "time_spend_company_label = tk.Label(root, text=\"Time Spent in Company (Years):\")\n",
    "time_spend_company_label.grid(row=2, column=0)\n",
    "time_spend_company_entry = tk.Entry(root)\n",
    "time_spend_company_entry.grid(row=2, column=1)\n",
    "\n",
    "work_accident_label = tk.Label(root, text=\"Work Accident (1: Yes, 0: No):\")\n",
    "work_accident_label.grid(row=3, column=0)\n",
    "work_accident_entry = tk.Entry(root)\n",
    "work_accident_entry.grid(row=3, column=1)\n",
    "\n",
    "department_RandD_label = tk.Label(root, text=\"Department_R&D (1: Yes, 0: No):\")\n",
    "department_RandD_label.grid(row=4, column=0)\n",
    "department_RandD_entry = tk.Entry(root)\n",
    "department_RandD_entry.grid(row=4, column=1)\n",
    "\n",
    "department_hr_label = tk.Label(root, text=\"Department_HR (1: Yes, 0: No):\")\n",
    "department_hr_label.grid(row=5, column=0)\n",
    "department_hr_entry = tk.Entry(root)\n",
    "department_hr_entry.grid(row=5, column=1)\n",
    "\n",
    "department_management_label = tk.Label(root, text=\"Department_Management (1: Yes, 0: No):\")\n",
    "department_management_label.grid(row=6, column=0)\n",
    "department_management_entry = tk.Entry(root)\n",
    "department_management_entry.grid(row=6, column=1)\n",
    "\n",
    "salary_high_label = tk.Label(root, text=\"Salary_high (1: Yes, 0: No):\")\n",
    "salary_high_label.grid(row=7, column=0)\n",
    "salary_high_entry = tk.Entry(root)\n",
    "salary_high_entry.grid(row=7, column=1)\n",
    "\n",
    "# Create button to make prediction\n",
    "predict_button = tk.Button(root, text=\"Predict retention status\", command=predict_retention)\n",
    "predict_button.grid(row=8, column=0, columnspan=2)\n",
    "\n",
    "# Create label to display prediction\n",
    "predicted_class_label = tk.Label(root, text=\"\")\n",
    "predicted_class_label.grid(row=9, column=0, columnspan=2)\n",
    "\n",
    "# Run GUI\n",
    "root.mainloop()"
   ]
  },
  {
   "cell_type": "code",
   "execution_count": null,
   "metadata": {},
   "outputs": [],
   "source": [
    "from flask import Flask, render_template, request\n",
    "\n",
    "app = Flask(__name__)\n",
    "\n",
    "@app.route('/', methods=['GET', 'POST'])\n",
    "def index():\n",
    "    if request.method == 'POST':\n",
    "        # Get feature values from form submission\n",
    "        satisfaction_level = float(request.form['satisfaction_level'])\n",
    "        last_evaluation = float(request.form['last_evaluation'])\n",
    "        time_spend_company = int(request.form['time_spend_company'])\n",
    "        work_accident = int(request.form['work_accident'])\n",
    "        department_RandD = int(request.form['department_RandD'])\n",
    "        department_hr = int(request.form['department_hr'])\n",
    "        department_management = int(request.form['department_management'])\n",
    "        salary_high = int(request.form['salary_high'])\n",
    "\n",
    "        # Make prediction on new data\n",
    "        new_data = [[satisfaction_level, last_evaluation, time_spend_company, work_accident, department_RandD, department_hr, department_management, salary_high]]\n",
    "        prediction = rf.predict(new_data)\n",
    "\n",
    "        # Pass the prediction to the index page\n",
    "        return render_template('index.html', prediction=prediction[0])\n",
    "    \n",
    "    return render_template('index.html')\n",
    "\n",
    "if __name__ == '__main__':\n",
    "    app.run()\n"
   ]
  },
  {
   "cell_type": "code",
   "execution_count": null,
   "metadata": {},
   "outputs": [],
   "source": []
  },
  {
   "cell_type": "code",
   "execution_count": null,
   "metadata": {},
   "outputs": [],
   "source": []
  },
  {
   "cell_type": "code",
   "execution_count": null,
   "metadata": {},
   "outputs": [],
   "source": []
  }
 ],
 "metadata": {
  "colab": {
   "provenance": []
  },
  "kernelspec": {
   "display_name": "Python 3 (ipykernel)",
   "language": "python",
   "name": "python3"
  },
  "language_info": {
   "codemirror_mode": {
    "name": "ipython",
    "version": 3
   },
   "file_extension": ".py",
   "mimetype": "text/x-python",
   "name": "python",
   "nbconvert_exporter": "python",
   "pygments_lexer": "ipython3",
   "version": "3.9.13"
  }
 },
 "nbformat": 4,
 "nbformat_minor": 1
}
